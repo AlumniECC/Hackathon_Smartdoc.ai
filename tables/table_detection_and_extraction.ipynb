{
  "nbformat": 4,
  "nbformat_minor": 0,
  "metadata": {
    "colab": {
      "provenance": []
    },
    "kernelspec": {
      "name": "python3",
      "display_name": "Python 3"
    },
    "language_info": {
      "name": "python"
    }
  },
  "cells": [
    {
      "cell_type": "markdown",
      "source": [
        "**Objectif global :**\n",
        "\n",
        "Ce code combine des techniques d'analyse d'images et d'extraction de texte pour identifier des tableaux dans un fichier PDF, extraire ces tableaux sous forme d'images, et convertir leur contenu en texte structuré.\n",
        "\n"
      ],
      "metadata": {
        "id": "BDgHreOBTFrF"
      }
    },
    {
      "cell_type": "code",
      "source": [
        "!pip install opencv-python-headless\n",
        "!pip install pillow\n",
        "!pip install pandas\n",
        "!pip install pytesseract\n",
        "!pip install scikit-learn\n",
        "!apt-get install tesseract-ocr\n",
        "!apt-get install tesseract-ocr-fra\n",
        "!pip install ultralyticsplus==0.0.28 ultralytics==8.0.43"
      ],
      "metadata": {
        "colab": {
          "base_uri": "https://localhost:8080/"
        },
        "id": "GJ9PxeCQke38",
        "outputId": "628e9620-1892-49ea-feca-ab1a1cc24da4",
        "collapsed": true
      },
      "execution_count": null,
      "outputs": [
        {
          "output_type": "stream",
          "name": "stdout",
          "text": [
            "Requirement already satisfied: opencv-python-headless in /usr/local/lib/python3.10/dist-packages (4.10.0.84)\n",
            "Requirement already satisfied: numpy>=1.21.2 in /usr/local/lib/python3.10/dist-packages (from opencv-python-headless) (1.26.4)\n",
            "Requirement already satisfied: pillow in /usr/local/lib/python3.10/dist-packages (11.0.0)\n",
            "Requirement already satisfied: pandas in /usr/local/lib/python3.10/dist-packages (2.2.2)\n",
            "Requirement already satisfied: numpy>=1.22.4 in /usr/local/lib/python3.10/dist-packages (from pandas) (1.26.4)\n",
            "Requirement already satisfied: python-dateutil>=2.8.2 in /usr/local/lib/python3.10/dist-packages (from pandas) (2.8.2)\n",
            "Requirement already satisfied: pytz>=2020.1 in /usr/local/lib/python3.10/dist-packages (from pandas) (2024.2)\n",
            "Requirement already satisfied: tzdata>=2022.7 in /usr/local/lib/python3.10/dist-packages (from pandas) (2024.2)\n",
            "Requirement already satisfied: six>=1.5 in /usr/local/lib/python3.10/dist-packages (from python-dateutil>=2.8.2->pandas) (1.17.0)\n",
            "Collecting pytesseract\n",
            "  Downloading pytesseract-0.3.13-py3-none-any.whl.metadata (11 kB)\n",
            "Requirement already satisfied: packaging>=21.3 in /usr/local/lib/python3.10/dist-packages (from pytesseract) (24.2)\n",
            "Requirement already satisfied: Pillow>=8.0.0 in /usr/local/lib/python3.10/dist-packages (from pytesseract) (11.0.0)\n",
            "Downloading pytesseract-0.3.13-py3-none-any.whl (14 kB)\n",
            "Installing collected packages: pytesseract\n",
            "Successfully installed pytesseract-0.3.13\n",
            "Requirement already satisfied: scikit-learn in /usr/local/lib/python3.10/dist-packages (1.5.2)\n",
            "Requirement already satisfied: numpy>=1.19.5 in /usr/local/lib/python3.10/dist-packages (from scikit-learn) (1.26.4)\n",
            "Requirement already satisfied: scipy>=1.6.0 in /usr/local/lib/python3.10/dist-packages (from scikit-learn) (1.13.1)\n",
            "Requirement already satisfied: joblib>=1.2.0 in /usr/local/lib/python3.10/dist-packages (from scikit-learn) (1.4.2)\n",
            "Requirement already satisfied: threadpoolctl>=3.1.0 in /usr/local/lib/python3.10/dist-packages (from scikit-learn) (3.5.0)\n",
            "Reading package lists... Done\n",
            "Building dependency tree... Done\n",
            "Reading state information... Done\n",
            "The following additional packages will be installed:\n",
            "  tesseract-ocr-eng tesseract-ocr-osd\n",
            "The following NEW packages will be installed:\n",
            "  tesseract-ocr tesseract-ocr-eng tesseract-ocr-osd\n",
            "0 upgraded, 3 newly installed, 0 to remove and 49 not upgraded.\n",
            "Need to get 4,816 kB of archives.\n",
            "After this operation, 15.6 MB of additional disk space will be used.\n",
            "Get:1 http://archive.ubuntu.com/ubuntu jammy/universe amd64 tesseract-ocr-eng all 1:4.00~git30-7274cfa-1.1 [1,591 kB]\n",
            "Get:2 http://archive.ubuntu.com/ubuntu jammy/universe amd64 tesseract-ocr-osd all 1:4.00~git30-7274cfa-1.1 [2,990 kB]\n",
            "Get:3 http://archive.ubuntu.com/ubuntu jammy/universe amd64 tesseract-ocr amd64 4.1.1-2.1build1 [236 kB]\n",
            "Fetched 4,816 kB in 0s (14.2 MB/s)\n",
            "Selecting previously unselected package tesseract-ocr-eng.\n",
            "(Reading database ... 123633 files and directories currently installed.)\n",
            "Preparing to unpack .../tesseract-ocr-eng_1%3a4.00~git30-7274cfa-1.1_all.deb ...\n",
            "Unpacking tesseract-ocr-eng (1:4.00~git30-7274cfa-1.1) ...\n",
            "Selecting previously unselected package tesseract-ocr-osd.\n",
            "Preparing to unpack .../tesseract-ocr-osd_1%3a4.00~git30-7274cfa-1.1_all.deb ...\n",
            "Unpacking tesseract-ocr-osd (1:4.00~git30-7274cfa-1.1) ...\n",
            "Selecting previously unselected package tesseract-ocr.\n",
            "Preparing to unpack .../tesseract-ocr_4.1.1-2.1build1_amd64.deb ...\n",
            "Unpacking tesseract-ocr (4.1.1-2.1build1) ...\n",
            "Setting up tesseract-ocr-eng (1:4.00~git30-7274cfa-1.1) ...\n",
            "Setting up tesseract-ocr-osd (1:4.00~git30-7274cfa-1.1) ...\n",
            "Setting up tesseract-ocr (4.1.1-2.1build1) ...\n",
            "Processing triggers for man-db (2.10.2-1) ...\n",
            "Reading package lists... Done\n",
            "Building dependency tree... Done\n",
            "Reading state information... Done\n",
            "The following NEW packages will be installed:\n",
            "  tesseract-ocr-fra\n",
            "0 upgraded, 1 newly installed, 0 to remove and 49 not upgraded.\n",
            "Need to get 527 kB of archives.\n",
            "After this operation, 1,145 kB of additional disk space will be used.\n",
            "Get:1 http://archive.ubuntu.com/ubuntu jammy/universe amd64 tesseract-ocr-fra all 1:4.00~git30-7274cfa-1.1 [527 kB]\n",
            "Fetched 527 kB in 0s (1,804 kB/s)\n",
            "Selecting previously unselected package tesseract-ocr-fra.\n",
            "(Reading database ... 123680 files and directories currently installed.)\n",
            "Preparing to unpack .../tesseract-ocr-fra_1%3a4.00~git30-7274cfa-1.1_all.deb ...\n",
            "Unpacking tesseract-ocr-fra (1:4.00~git30-7274cfa-1.1) ...\n",
            "Setting up tesseract-ocr-fra (1:4.00~git30-7274cfa-1.1) ...\n",
            "Collecting ultralyticsplus==0.0.28\n",
            "  Downloading ultralyticsplus-0.0.28-py3-none-any.whl.metadata (2.9 kB)\n",
            "Collecting ultralytics==8.0.43\n",
            "  Downloading ultralytics-8.0.43-py3-none-any.whl.metadata (24 kB)\n",
            "Requirement already satisfied: huggingface-hub>=0.12.0 in /usr/local/lib/python3.10/dist-packages (from ultralyticsplus==0.0.28) (0.26.5)\n",
            "Collecting fire (from ultralyticsplus==0.0.28)\n",
            "  Downloading fire-0.7.0.tar.gz (87 kB)\n",
            "\u001b[2K     \u001b[90m━━━━━━━━━━━━━━━━━━━━━━━━━━━━━━━━━━━━━━━━\u001b[0m \u001b[32m87.2/87.2 kB\u001b[0m \u001b[31m3.8 MB/s\u001b[0m eta \u001b[36m0:00:00\u001b[0m\n",
            "\u001b[?25h  Preparing metadata (setup.py) ... \u001b[?25l\u001b[?25hdone\n",
            "Collecting sahi<0.12.0,>=0.11.11 (from ultralyticsplus==0.0.28)\n",
            "  Downloading sahi-0.11.19-py3-none-any.whl.metadata (17 kB)\n",
            "Requirement already satisfied: pandas in /usr/local/lib/python3.10/dist-packages (from ultralyticsplus==0.0.28) (2.2.2)\n",
            "Requirement already satisfied: matplotlib>=3.2.2 in /usr/local/lib/python3.10/dist-packages (from ultralytics==8.0.43) (3.8.0)\n",
            "Requirement already satisfied: numpy>=1.18.5 in /usr/local/lib/python3.10/dist-packages (from ultralytics==8.0.43) (1.26.4)\n",
            "Requirement already satisfied: opencv-python>=4.6.0 in /usr/local/lib/python3.10/dist-packages (from ultralytics==8.0.43) (4.10.0.84)\n",
            "Requirement already satisfied: Pillow>=7.1.2 in /usr/local/lib/python3.10/dist-packages (from ultralytics==8.0.43) (11.0.0)\n",
            "Requirement already satisfied: PyYAML>=5.3.1 in /usr/local/lib/python3.10/dist-packages (from ultralytics==8.0.43) (6.0.2)\n",
            "Requirement already satisfied: requests>=2.23.0 in /usr/local/lib/python3.10/dist-packages (from ultralytics==8.0.43) (2.32.3)\n",
            "Requirement already satisfied: scipy>=1.4.1 in /usr/local/lib/python3.10/dist-packages (from ultralytics==8.0.43) (1.13.1)\n",
            "Requirement already satisfied: torch>=1.7.0 in /usr/local/lib/python3.10/dist-packages (from ultralytics==8.0.43) (2.5.1+cu121)\n",
            "Requirement already satisfied: torchvision>=0.8.1 in /usr/local/lib/python3.10/dist-packages (from ultralytics==8.0.43) (0.20.1+cu121)\n",
            "Requirement already satisfied: tqdm>=4.64.0 in /usr/local/lib/python3.10/dist-packages (from ultralytics==8.0.43) (4.66.6)\n",
            "Requirement already satisfied: tensorboard>=2.4.1 in /usr/local/lib/python3.10/dist-packages (from ultralytics==8.0.43) (2.17.1)\n",
            "Requirement already satisfied: seaborn>=0.11.0 in /usr/local/lib/python3.10/dist-packages (from ultralytics==8.0.43) (0.13.2)\n",
            "Requirement already satisfied: psutil in /usr/local/lib/python3.10/dist-packages (from ultralytics==8.0.43) (5.9.5)\n",
            "Collecting thop>=0.1.1 (from ultralytics==8.0.43)\n",
            "  Downloading thop-0.1.1.post2209072238-py3-none-any.whl.metadata (2.7 kB)\n",
            "Requirement already satisfied: wheel>=0.38.0 in /usr/local/lib/python3.10/dist-packages (from ultralytics==8.0.43) (0.45.1)\n",
            "Requirement already satisfied: sentry-sdk in /usr/local/lib/python3.10/dist-packages (from ultralytics==8.0.43) (2.19.2)\n",
            "Requirement already satisfied: filelock in /usr/local/lib/python3.10/dist-packages (from huggingface-hub>=0.12.0->ultralyticsplus==0.0.28) (3.16.1)\n",
            "Requirement already satisfied: fsspec>=2023.5.0 in /usr/local/lib/python3.10/dist-packages (from huggingface-hub>=0.12.0->ultralyticsplus==0.0.28) (2024.10.0)\n",
            "Requirement already satisfied: packaging>=20.9 in /usr/local/lib/python3.10/dist-packages (from huggingface-hub>=0.12.0->ultralyticsplus==0.0.28) (24.2)\n",
            "Requirement already satisfied: typing-extensions>=3.7.4.3 in /usr/local/lib/python3.10/dist-packages (from huggingface-hub>=0.12.0->ultralyticsplus==0.0.28) (4.12.2)\n",
            "Requirement already satisfied: contourpy>=1.0.1 in /usr/local/lib/python3.10/dist-packages (from matplotlib>=3.2.2->ultralytics==8.0.43) (1.3.1)\n",
            "Requirement already satisfied: cycler>=0.10 in /usr/local/lib/python3.10/dist-packages (from matplotlib>=3.2.2->ultralytics==8.0.43) (0.12.1)\n",
            "Requirement already satisfied: fonttools>=4.22.0 in /usr/local/lib/python3.10/dist-packages (from matplotlib>=3.2.2->ultralytics==8.0.43) (4.55.2)\n",
            "Requirement already satisfied: kiwisolver>=1.0.1 in /usr/local/lib/python3.10/dist-packages (from matplotlib>=3.2.2->ultralytics==8.0.43) (1.4.7)\n",
            "Requirement already satisfied: pyparsing>=2.3.1 in /usr/local/lib/python3.10/dist-packages (from matplotlib>=3.2.2->ultralytics==8.0.43) (3.2.0)\n",
            "Requirement already satisfied: python-dateutil>=2.7 in /usr/local/lib/python3.10/dist-packages (from matplotlib>=3.2.2->ultralytics==8.0.43) (2.8.2)\n",
            "Requirement already satisfied: pytz>=2020.1 in /usr/local/lib/python3.10/dist-packages (from pandas->ultralyticsplus==0.0.28) (2024.2)\n",
            "Requirement already satisfied: tzdata>=2022.7 in /usr/local/lib/python3.10/dist-packages (from pandas->ultralyticsplus==0.0.28) (2024.2)\n",
            "Requirement already satisfied: charset-normalizer<4,>=2 in /usr/local/lib/python3.10/dist-packages (from requests>=2.23.0->ultralytics==8.0.43) (3.4.0)\n",
            "Requirement already satisfied: idna<4,>=2.5 in /usr/local/lib/python3.10/dist-packages (from requests>=2.23.0->ultralytics==8.0.43) (3.10)\n",
            "Requirement already satisfied: urllib3<3,>=1.21.1 in /usr/local/lib/python3.10/dist-packages (from requests>=2.23.0->ultralytics==8.0.43) (2.2.3)\n",
            "Requirement already satisfied: certifi>=2017.4.17 in /usr/local/lib/python3.10/dist-packages (from requests>=2.23.0->ultralytics==8.0.43) (2024.8.30)\n",
            "Collecting opencv-python>=4.6.0 (from ultralytics==8.0.43)\n",
            "  Downloading opencv_python-4.9.0.80-cp37-abi3-manylinux_2_17_x86_64.manylinux2014_x86_64.whl.metadata (20 kB)\n",
            "Requirement already satisfied: shapely>=1.8.0 in /usr/local/lib/python3.10/dist-packages (from sahi<0.12.0,>=0.11.11->ultralyticsplus==0.0.28) (2.0.6)\n",
            "Collecting pybboxes==0.1.6 (from sahi<0.12.0,>=0.11.11->ultralyticsplus==0.0.28)\n",
            "  Downloading pybboxes-0.1.6-py3-none-any.whl.metadata (9.9 kB)\n",
            "Collecting terminaltables (from sahi<0.12.0,>=0.11.11->ultralyticsplus==0.0.28)\n",
            "  Downloading terminaltables-3.1.10-py2.py3-none-any.whl.metadata (3.5 kB)\n",
            "Requirement already satisfied: click in /usr/local/lib/python3.10/dist-packages (from sahi<0.12.0,>=0.11.11->ultralyticsplus==0.0.28) (8.1.7)\n",
            "Requirement already satisfied: absl-py>=0.4 in /usr/local/lib/python3.10/dist-packages (from tensorboard>=2.4.1->ultralytics==8.0.43) (1.4.0)\n",
            "Requirement already satisfied: grpcio>=1.48.2 in /usr/local/lib/python3.10/dist-packages (from tensorboard>=2.4.1->ultralytics==8.0.43) (1.68.1)\n",
            "Requirement already satisfied: markdown>=2.6.8 in /usr/local/lib/python3.10/dist-packages (from tensorboard>=2.4.1->ultralytics==8.0.43) (3.7)\n",
            "Requirement already satisfied: protobuf!=4.24.0,>=3.19.6 in /usr/local/lib/python3.10/dist-packages (from tensorboard>=2.4.1->ultralytics==8.0.43) (4.25.5)\n",
            "Requirement already satisfied: setuptools>=41.0.0 in /usr/local/lib/python3.10/dist-packages (from tensorboard>=2.4.1->ultralytics==8.0.43) (75.1.0)\n",
            "Requirement already satisfied: six>1.9 in /usr/local/lib/python3.10/dist-packages (from tensorboard>=2.4.1->ultralytics==8.0.43) (1.17.0)\n",
            "Requirement already satisfied: tensorboard-data-server<0.8.0,>=0.7.0 in /usr/local/lib/python3.10/dist-packages (from tensorboard>=2.4.1->ultralytics==8.0.43) (0.7.2)\n",
            "Requirement already satisfied: werkzeug>=1.0.1 in /usr/local/lib/python3.10/dist-packages (from tensorboard>=2.4.1->ultralytics==8.0.43) (3.1.3)\n",
            "Requirement already satisfied: networkx in /usr/local/lib/python3.10/dist-packages (from torch>=1.7.0->ultralytics==8.0.43) (3.4.2)\n",
            "Requirement already satisfied: jinja2 in /usr/local/lib/python3.10/dist-packages (from torch>=1.7.0->ultralytics==8.0.43) (3.1.4)\n",
            "Requirement already satisfied: sympy==1.13.1 in /usr/local/lib/python3.10/dist-packages (from torch>=1.7.0->ultralytics==8.0.43) (1.13.1)\n",
            "Requirement already satisfied: mpmath<1.4,>=1.1.0 in /usr/local/lib/python3.10/dist-packages (from sympy==1.13.1->torch>=1.7.0->ultralytics==8.0.43) (1.3.0)\n",
            "Requirement already satisfied: termcolor in /usr/local/lib/python3.10/dist-packages (from fire->ultralyticsplus==0.0.28) (2.5.0)\n",
            "Requirement already satisfied: MarkupSafe>=2.1.1 in /usr/local/lib/python3.10/dist-packages (from werkzeug>=1.0.1->tensorboard>=2.4.1->ultralytics==8.0.43) (3.0.2)\n",
            "Downloading ultralyticsplus-0.0.28-py3-none-any.whl (11 kB)\n",
            "Downloading ultralytics-8.0.43-py3-none-any.whl (299 kB)\n",
            "\u001b[2K   \u001b[90m━━━━━━━━━━━━━━━━━━━━━━━━━━━━━━━━━━━━━━━━\u001b[0m \u001b[32m299.6/299.6 kB\u001b[0m \u001b[31m9.2 MB/s\u001b[0m eta \u001b[36m0:00:00\u001b[0m\n",
            "\u001b[?25hDownloading sahi-0.11.19-py3-none-any.whl (111 kB)\n",
            "\u001b[2K   \u001b[90m━━━━━━━━━━━━━━━━━━━━━━━━━━━━━━━━━━━━━━━━\u001b[0m \u001b[32m111.3/111.3 kB\u001b[0m \u001b[31m7.4 MB/s\u001b[0m eta \u001b[36m0:00:00\u001b[0m\n",
            "\u001b[?25hDownloading pybboxes-0.1.6-py3-none-any.whl (24 kB)\n",
            "Downloading opencv_python-4.9.0.80-cp37-abi3-manylinux_2_17_x86_64.manylinux2014_x86_64.whl (62.2 MB)\n",
            "\u001b[2K   \u001b[90m━━━━━━━━━━━━━━━━━━━━━━━━━━━━━━━━━━━━━━━━\u001b[0m \u001b[32m62.2/62.2 MB\u001b[0m \u001b[31m14.6 MB/s\u001b[0m eta \u001b[36m0:00:00\u001b[0m\n",
            "\u001b[?25hDownloading thop-0.1.1.post2209072238-py3-none-any.whl (15 kB)\n",
            "Downloading terminaltables-3.1.10-py2.py3-none-any.whl (15 kB)\n",
            "Building wheels for collected packages: fire\n",
            "  Building wheel for fire (setup.py) ... \u001b[?25l\u001b[?25hdone\n",
            "  Created wheel for fire: filename=fire-0.7.0-py3-none-any.whl size=114249 sha256=23fbe2b44c583077d8af68a84e2d1179fdf0b9a30a952d319ef7ace9880c605c\n",
            "  Stored in directory: /root/.cache/pip/wheels/19/39/2f/2d3cadc408a8804103f1c34ddd4b9f6a93497b11fa96fe738e\n",
            "Successfully built fire\n",
            "Installing collected packages: terminaltables, pybboxes, opencv-python, fire, sahi, thop, ultralytics, ultralyticsplus\n",
            "  Attempting uninstall: opencv-python\n",
            "    Found existing installation: opencv-python 4.10.0.84\n",
            "    Uninstalling opencv-python-4.10.0.84:\n",
            "      Successfully uninstalled opencv-python-4.10.0.84\n",
            "Successfully installed fire-0.7.0 opencv-python-4.9.0.80 pybboxes-0.1.6 sahi-0.11.19 terminaltables-3.1.10 thop-0.1.1.post2209072238 ultralytics-8.0.43 ultralyticsplus-0.0.28\n"
          ]
        }
      ]
    },
    {
      "cell_type": "code",
      "source": [
        "!pip install pdf2image\n",
        "!apt-get install -y poppler-utils\n"
      ],
      "metadata": {
        "colab": {
          "base_uri": "https://localhost:8080/"
        },
        "id": "jzd02P2dEk-T",
        "outputId": "df285a8e-b950-40ef-ffae-65d8333d7afe",
        "collapsed": true
      },
      "execution_count": null,
      "outputs": [
        {
          "output_type": "stream",
          "name": "stdout",
          "text": [
            "Collecting pdf2image\n",
            "  Downloading pdf2image-1.17.0-py3-none-any.whl.metadata (6.2 kB)\n",
            "Requirement already satisfied: pillow in /usr/local/lib/python3.10/dist-packages (from pdf2image) (11.0.0)\n",
            "Downloading pdf2image-1.17.0-py3-none-any.whl (11 kB)\n",
            "Installing collected packages: pdf2image\n",
            "Successfully installed pdf2image-1.17.0\n",
            "Reading package lists... Done\n",
            "Building dependency tree... Done\n",
            "Reading state information... Done\n",
            "The following NEW packages will be installed:\n",
            "  poppler-utils\n",
            "0 upgraded, 1 newly installed, 0 to remove and 49 not upgraded.\n",
            "Need to get 186 kB of archives.\n",
            "After this operation, 696 kB of additional disk space will be used.\n",
            "Get:1 http://archive.ubuntu.com/ubuntu jammy-updates/main amd64 poppler-utils amd64 22.02.0-2ubuntu0.5 [186 kB]\n",
            "Fetched 186 kB in 0s (944 kB/s)\n",
            "Selecting previously unselected package poppler-utils.\n",
            "(Reading database ... 123684 files and directories currently installed.)\n",
            "Preparing to unpack .../poppler-utils_22.02.0-2ubuntu0.5_amd64.deb ...\n",
            "Unpacking poppler-utils (22.02.0-2ubuntu0.5) ...\n",
            "Setting up poppler-utils (22.02.0-2ubuntu0.5) ...\n",
            "Processing triggers for man-db (2.10.2-1) ...\n"
          ]
        }
      ]
    },
    {
      "cell_type": "code",
      "source": [
        "import cv2\n",
        "import os\n",
        "import pytesseract\n",
        "from pytesseract import Output\n",
        "from ultralyticsplus import YOLO\n",
        "from pdf2image import convert_from_path\n",
        "import pandas as pd"
      ],
      "metadata": {
        "id": "JRVG7MqhQkBJ"
      },
      "execution_count": null,
      "outputs": []
    },
    {
      "cell_type": "markdown",
      "source": [
        "**Fonction 1 : Initialisation du modèle YOLO**"
      ],
      "metadata": {
        "id": "I5jsVSKBQp13"
      }
    },
    {
      "cell_type": "code",
      "source": [
        "def initialize_model():\n",
        "    model = YOLO('foduucom/table-detection-and-extraction')\n",
        "    model.overrides['conf'] = 0.25  # Seuil de confiance\n",
        "    model.overrides['iou'] = 0.45  # Seuil IoU\n",
        "    model.overrides['agnostic_nms'] = False\n",
        "    model.overrides['max_det'] = 1000\n",
        "    return model"
      ],
      "metadata": {
        "id": "cO_vgAh-Q6RF"
      },
      "execution_count": null,
      "outputs": []
    },
    {
      "cell_type": "markdown",
      "source": [
        "**Fonction 2 : Extraction des tables sous forme d'images**\n",
        "\n",
        "Conversion des pages PDF en images, détection et découpe des tableaux, stockage des images dans un dossier"
      ],
      "metadata": {
        "id": "qUzT6tQURAJf"
      }
    },
    {
      "cell_type": "code",
      "source": [
        "def extract_tables_from_pdf(pdf_path, output_dir):\n",
        "    os.makedirs(output_dir, exist_ok=True)\n",
        "    model = initialize_model()\n",
        "    table_image_paths = []\n",
        "\n",
        "    pages = convert_from_path(pdf_path)\n",
        "    print(f\"{len(pages)} pages trouvées dans le PDF.\")\n",
        "\n",
        "    for page_number, page in enumerate(pages, start=1):\n",
        "        page_image_path = os.path.join(output_dir, f'page_{page_number}.jpg')\n",
        "        page.save(page_image_path, 'JPEG')\n",
        "\n",
        "        image = cv2.imread(page_image_path)\n",
        "        results = model.predict(page_image_path)\n",
        "\n",
        "        for idx, box in enumerate(results[0].boxes, start=1):\n",
        "            x1, y1, x2, y2 = map(int, box.xyxy[0])\n",
        "            cropped_image = image[y1:y2, x1:x2]\n",
        "\n",
        "            table_image_path = os.path.join(output_dir, f'table_page{page_number}_{idx}.jpg')\n",
        "            cv2.imwrite(table_image_path, cropped_image)\n",
        "            table_image_paths.append(table_image_path)\n",
        "            print(f\"Tableau enregistré : {table_image_path}\")\n",
        "\n",
        "    return table_image_paths"
      ],
      "metadata": {
        "id": "_5Xvsra2RItX"
      },
      "execution_count": null,
      "outputs": []
    },
    {
      "cell_type": "markdown",
      "source": [
        "**Fonction 3 : Extraction du texte d'une image de table**\n",
        "\n",
        "Analyse des images pour extraire et organiser le texte en conservant la mise en page."
      ],
      "metadata": {
        "id": "-wpw-xPYRMAE"
      }
    },
    {
      "cell_type": "code",
      "source": [
        "def extract_text_from_table_image(image_path):\n",
        "    img = cv2.imread(image_path)\n",
        "    img_resized = cv2.resize(img, (int(img.shape[1] + (img.shape[1] * 0.1)),\n",
        "                                   int(img.shape[0] + (img.shape[0] * 0.25))),\n",
        "                             interpolation=cv2.INTER_AREA)\n",
        "    img_rgb = cv2.cvtColor(img_resized, cv2.COLOR_BGR2RGB)\n",
        "\n",
        "    custom_config = r'-l eng --oem 3 --psm 6 -c tessedit_char_whitelist=\"ABCDEFGHIJKLMNOPQRSTUVWXYZabcdefghijklmnopqrstuvwxyz0123456789-:.$%./@& *\"'\n",
        "    d = pytesseract.image_to_data(img_rgb, config=custom_config, output_type=Output.DICT)\n",
        "    df = pd.DataFrame(d)\n",
        "\n",
        "    df1 = df[(df.conf != '-1') & (df.text != ' ') & (df.text != '')]\n",
        "\n",
        "    sorted_blocks = df1.groupby('block_num').first().sort_values('top').index.tolist()\n",
        "    extracted_text = \"\"\n",
        "\n",
        "    for block in sorted_blocks:\n",
        "        curr = df1[df1['block_num'] == block]\n",
        "        char_w = (curr.width / curr.text.str.len()).mean()\n",
        "        prev_par, prev_line, prev_left = 0, 0, 0\n",
        "        text = ''\n",
        "\n",
        "        for _, ln in curr.iterrows():\n",
        "            if prev_par != ln['par_num']:\n",
        "                text += '\\n'\n",
        "                prev_par = ln['par_num']\n",
        "                prev_line = ln['line_num']\n",
        "                prev_left = 0\n",
        "            elif prev_line != ln['line_num']:\n",
        "                text += '\\n'\n",
        "                prev_line = ln['line_num']\n",
        "                prev_left = 0\n",
        "\n",
        "            added = 0\n",
        "            if ln['left'] / char_w > prev_left + 1:\n",
        "                added = int((ln['left']) / char_w) - prev_left\n",
        "                text += ' ' * added\n",
        "            text += ln['text'] + ' '\n",
        "            prev_left += len(ln['text']) + added + 1\n",
        "        extracted_text += text + '\\n'\n",
        "\n",
        "    print(f\"Contenu extrait de l'image {image_path} :\\n{extracted_text}\")\n",
        "    print('-----------------------------------------------------------------------------------------')\n",
        "    return extracted_text"
      ],
      "metadata": {
        "id": "win28-vKRR83"
      },
      "execution_count": null,
      "outputs": []
    },
    {
      "cell_type": "markdown",
      "source": [
        "**Script principal**"
      ],
      "metadata": {
        "id": "XTDt60SvRZbv"
      }
    },
    {
      "cell_type": "code",
      "source": [
        "def main(pdf_path, output_dir):\n",
        "    print(\"Début du traitement...\")\n",
        "    table_images = extract_tables_from_pdf(pdf_path, output_dir)\n",
        "    print(f\"Nombre de tables extraites : {len(table_images)}\")\n",
        "\n",
        "    for image_path in table_images:\n",
        "        extract_text_from_table_image(image_path)"
      ],
      "metadata": {
        "id": "OOLKDCSsRdGx"
      },
      "execution_count": null,
      "outputs": []
    },
    {
      "cell_type": "markdown",
      "source": [
        "**Exemple d'utilisation**"
      ],
      "metadata": {
        "id": "GmyGwPu3R0QQ"
      }
    },
    {
      "cell_type": "code",
      "source": [
        "pdf_path = \"/content/sfcr_covea_2022.PDF\"  # Remplacez par le chemin de votre PDF\n",
        "output_dir = \"tables_extracted\"\n",
        "os.makedirs(output_dir, exist_ok=True)\n",
        "\n",
        "print(\"Début du traitement...\")\n",
        "table_images = extract_tables_from_pdf(pdf_path, output_dir) #Extraction des tables sous forme d'images dans le pdf\n",
        "print(f\"Nombre de tables extraites : {len(table_images)}\")"
      ],
      "metadata": {
        "colab": {
          "base_uri": "https://localhost:8080/"
        },
        "id": "74DDhrwGKt40",
        "outputId": "5c5e52eb-4d07-448d-b9eb-4d273f3ffd5f",
        "collapsed": true
      },
      "execution_count": null,
      "outputs": [
        {
          "output_type": "stream",
          "name": "stdout",
          "text": [
            "Début du traitement...\n"
          ]
        },
        {
          "output_type": "stream",
          "name": "stderr",
          "text": [
            "/usr/local/lib/python3.10/dist-packages/ultralytics/nn/tasks.py:340: FutureWarning: You are using `torch.load` with `weights_only=False` (the current default value), which uses the default pickle module implicitly. It is possible to construct malicious pickle data which will execute arbitrary code during unpickling (See https://github.com/pytorch/pytorch/blob/main/SECURITY.md#untrusted-models for more details). In a future release, the default value for `weights_only` will be flipped to `True`. This limits the functions that could be executed during unpickling. Arbitrary objects will no longer be allowed to be loaded via this mode unless they are explicitly allowlisted by the user via `torch.serialization.add_safe_globals`. We recommend you start setting `weights_only=True` for any use case where you don't have full control of the loaded file. Please open an issue on GitHub for any issues related to this experimental feature.\n",
            "  return torch.load(file, map_location='cpu'), file  # load\n",
            "Ultralytics YOLOv8.0.43 🚀 Python-3.10.12 torch-2.5.1+cu121 CPU\n"
          ]
        },
        {
          "output_type": "stream",
          "name": "stdout",
          "text": [
            "98 pages trouvées dans le PDF.\n"
          ]
        },
        {
          "output_type": "stream",
          "name": "stderr",
          "text": [
            "Model summary (fused): 168 layers, 11126358 parameters, 0 gradients, 28.4 GFLOPs\n",
            "\n",
            "image 1/1 /content/tables_extracted/page_1.jpg: 640x480 1 bordered, 879.6ms\n",
            "Speed: 2.7ms preprocess, 879.6ms inference, 1.8ms postprocess per image at shape (1, 3, 640, 640)\n",
            "\n"
          ]
        },
        {
          "output_type": "stream",
          "name": "stdout",
          "text": [
            "Tableau enregistré : tables_extracted/table_page1_1.jpg\n"
          ]
        },
        {
          "output_type": "stream",
          "name": "stderr",
          "text": [
            "image 1/1 /content/tables_extracted/page_2.jpg: 640x480 1 borderless, 470.8ms\n",
            "Speed: 1.0ms preprocess, 470.8ms inference, 1.1ms postprocess per image at shape (1, 3, 640, 640)\n",
            "\n"
          ]
        },
        {
          "output_type": "stream",
          "name": "stdout",
          "text": [
            "Tableau enregistré : tables_extracted/table_page2_1.jpg\n"
          ]
        },
        {
          "output_type": "stream",
          "name": "stderr",
          "text": [
            "image 1/1 /content/tables_extracted/page_3.jpg: 640x480 (no detections), 455.0ms\n",
            "Speed: 1.0ms preprocess, 455.0ms inference, 0.6ms postprocess per image at shape (1, 3, 640, 640)\n",
            "\n",
            "image 1/1 /content/tables_extracted/page_4.jpg: 640x480 (no detections), 459.5ms\n",
            "Speed: 1.1ms preprocess, 459.5ms inference, 0.5ms postprocess per image at shape (1, 3, 640, 640)\n",
            "\n",
            "image 1/1 /content/tables_extracted/page_5.jpg: 640x480 1 borderless, 469.6ms\n",
            "Speed: 1.0ms preprocess, 469.6ms inference, 1.1ms postprocess per image at shape (1, 3, 640, 640)\n",
            "\n"
          ]
        },
        {
          "output_type": "stream",
          "name": "stdout",
          "text": [
            "Tableau enregistré : tables_extracted/table_page5_1.jpg\n"
          ]
        },
        {
          "output_type": "stream",
          "name": "stderr",
          "text": [
            "image 1/1 /content/tables_extracted/page_6.jpg: 640x480 1 borderless, 465.4ms\n",
            "Speed: 1.1ms preprocess, 465.4ms inference, 1.5ms postprocess per image at shape (1, 3, 640, 640)\n",
            "\n"
          ]
        },
        {
          "output_type": "stream",
          "name": "stdout",
          "text": [
            "Tableau enregistré : tables_extracted/table_page6_1.jpg\n"
          ]
        },
        {
          "output_type": "stream",
          "name": "stderr",
          "text": [
            "image 1/1 /content/tables_extracted/page_7.jpg: 640x480 (no detections), 476.4ms\n",
            "Speed: 1.0ms preprocess, 476.4ms inference, 0.5ms postprocess per image at shape (1, 3, 640, 640)\n",
            "\n",
            "image 1/1 /content/tables_extracted/page_8.jpg: 640x480 3 bordereds, 482.0ms\n",
            "Speed: 0.9ms preprocess, 482.0ms inference, 1.2ms postprocess per image at shape (1, 3, 640, 640)\n",
            "\n"
          ]
        },
        {
          "output_type": "stream",
          "name": "stdout",
          "text": [
            "Tableau enregistré : tables_extracted/table_page8_1.jpg\n",
            "Tableau enregistré : tables_extracted/table_page8_2.jpg\n",
            "Tableau enregistré : tables_extracted/table_page8_3.jpg\n"
          ]
        },
        {
          "output_type": "stream",
          "name": "stderr",
          "text": [
            "image 1/1 /content/tables_extracted/page_9.jpg: 640x480 1 borderless, 522.3ms\n",
            "Speed: 1.1ms preprocess, 522.3ms inference, 1.0ms postprocess per image at shape (1, 3, 640, 640)\n",
            "\n"
          ]
        },
        {
          "output_type": "stream",
          "name": "stdout",
          "text": [
            "Tableau enregistré : tables_extracted/table_page9_1.jpg\n"
          ]
        },
        {
          "output_type": "stream",
          "name": "stderr",
          "text": [
            "image 1/1 /content/tables_extracted/page_10.jpg: 640x480 (no detections), 557.7ms\n",
            "Speed: 1.0ms preprocess, 557.7ms inference, 0.7ms postprocess per image at shape (1, 3, 640, 640)\n",
            "\n",
            "image 1/1 /content/tables_extracted/page_11.jpg: 640x480 (no detections), 1311.9ms\n",
            "Speed: 1.0ms preprocess, 1311.9ms inference, 0.7ms postprocess per image at shape (1, 3, 640, 640)\n",
            "\n",
            "image 1/1 /content/tables_extracted/page_12.jpg: 640x480 (no detections), 1316.3ms\n",
            "Speed: 1.0ms preprocess, 1316.3ms inference, 0.7ms postprocess per image at shape (1, 3, 640, 640)\n",
            "\n",
            "image 1/1 /content/tables_extracted/page_13.jpg: 640x480 (no detections), 1433.8ms\n",
            "Speed: 1.0ms preprocess, 1433.8ms inference, 0.5ms postprocess per image at shape (1, 3, 640, 640)\n",
            "\n",
            "image 1/1 /content/tables_extracted/page_14.jpg: 640x480 (no detections), 468.1ms\n",
            "Speed: 1.0ms preprocess, 468.1ms inference, 4.8ms postprocess per image at shape (1, 3, 640, 640)\n",
            "\n",
            "image 1/1 /content/tables_extracted/page_15.jpg: 640x480 2 borderlesss, 450.9ms\n",
            "Speed: 0.9ms preprocess, 450.9ms inference, 1.0ms postprocess per image at shape (1, 3, 640, 640)\n",
            "\n"
          ]
        },
        {
          "output_type": "stream",
          "name": "stdout",
          "text": [
            "Tableau enregistré : tables_extracted/table_page15_1.jpg\n",
            "Tableau enregistré : tables_extracted/table_page15_2.jpg\n"
          ]
        },
        {
          "output_type": "stream",
          "name": "stderr",
          "text": [
            "image 1/1 /content/tables_extracted/page_16.jpg: 640x480 2 borderlesss, 495.7ms\n",
            "Speed: 1.1ms preprocess, 495.7ms inference, 1.2ms postprocess per image at shape (1, 3, 640, 640)\n",
            "\n"
          ]
        },
        {
          "output_type": "stream",
          "name": "stdout",
          "text": [
            "Tableau enregistré : tables_extracted/table_page16_1.jpg\n",
            "Tableau enregistré : tables_extracted/table_page16_2.jpg\n"
          ]
        },
        {
          "output_type": "stream",
          "name": "stderr",
          "text": [
            "image 1/1 /content/tables_extracted/page_17.jpg: 640x480 (no detections), 512.4ms\n",
            "Speed: 0.9ms preprocess, 512.4ms inference, 0.5ms postprocess per image at shape (1, 3, 640, 640)\n",
            "\n",
            "image 1/1 /content/tables_extracted/page_18.jpg: 640x480 1 borderless, 632.1ms\n",
            "Speed: 1.0ms preprocess, 632.1ms inference, 1.0ms postprocess per image at shape (1, 3, 640, 640)\n",
            "\n"
          ]
        },
        {
          "output_type": "stream",
          "name": "stdout",
          "text": [
            "Tableau enregistré : tables_extracted/table_page18_1.jpg\n"
          ]
        },
        {
          "output_type": "stream",
          "name": "stderr",
          "text": [
            "image 1/1 /content/tables_extracted/page_19.jpg: 640x480 1 borderless, 723.1ms\n",
            "Speed: 1.0ms preprocess, 723.1ms inference, 6.0ms postprocess per image at shape (1, 3, 640, 640)\n",
            "\n"
          ]
        },
        {
          "output_type": "stream",
          "name": "stdout",
          "text": [
            "Tableau enregistré : tables_extracted/table_page19_1.jpg\n"
          ]
        },
        {
          "output_type": "stream",
          "name": "stderr",
          "text": [
            "image 1/1 /content/tables_extracted/page_20.jpg: 640x480 1 borderless, 470.1ms\n",
            "Speed: 0.9ms preprocess, 470.1ms inference, 1.0ms postprocess per image at shape (1, 3, 640, 640)\n",
            "\n"
          ]
        },
        {
          "output_type": "stream",
          "name": "stdout",
          "text": [
            "Tableau enregistré : tables_extracted/table_page20_1.jpg\n"
          ]
        },
        {
          "output_type": "stream",
          "name": "stderr",
          "text": [
            "image 1/1 /content/tables_extracted/page_21.jpg: 640x480 1 borderless, 456.1ms\n",
            "Speed: 1.0ms preprocess, 456.1ms inference, 1.2ms postprocess per image at shape (1, 3, 640, 640)\n",
            "\n"
          ]
        },
        {
          "output_type": "stream",
          "name": "stdout",
          "text": [
            "Tableau enregistré : tables_extracted/table_page21_1.jpg\n"
          ]
        },
        {
          "output_type": "stream",
          "name": "stderr",
          "text": [
            "image 1/1 /content/tables_extracted/page_22.jpg: 640x480 (no detections), 470.2ms\n",
            "Speed: 1.1ms preprocess, 470.2ms inference, 0.5ms postprocess per image at shape (1, 3, 640, 640)\n",
            "\n",
            "image 1/1 /content/tables_extracted/page_23.jpg: 640x480 2 borderlesss, 465.4ms\n",
            "Speed: 1.1ms preprocess, 465.4ms inference, 1.4ms postprocess per image at shape (1, 3, 640, 640)\n",
            "\n"
          ]
        },
        {
          "output_type": "stream",
          "name": "stdout",
          "text": [
            "Tableau enregistré : tables_extracted/table_page23_1.jpg\n",
            "Tableau enregistré : tables_extracted/table_page23_2.jpg\n"
          ]
        },
        {
          "output_type": "stream",
          "name": "stderr",
          "text": [
            "image 1/1 /content/tables_extracted/page_24.jpg: 640x480 1 borderless, 458.9ms\n",
            "Speed: 1.1ms preprocess, 458.9ms inference, 1.2ms postprocess per image at shape (1, 3, 640, 640)\n",
            "\n"
          ]
        },
        {
          "output_type": "stream",
          "name": "stdout",
          "text": [
            "Tableau enregistré : tables_extracted/table_page24_1.jpg\n"
          ]
        },
        {
          "output_type": "stream",
          "name": "stderr",
          "text": [
            "image 1/1 /content/tables_extracted/page_25.jpg: 640x480 1 borderless, 471.3ms\n",
            "Speed: 1.0ms preprocess, 471.3ms inference, 1.0ms postprocess per image at shape (1, 3, 640, 640)\n",
            "\n"
          ]
        },
        {
          "output_type": "stream",
          "name": "stdout",
          "text": [
            "Tableau enregistré : tables_extracted/table_page25_1.jpg\n"
          ]
        },
        {
          "output_type": "stream",
          "name": "stderr",
          "text": [
            "image 1/1 /content/tables_extracted/page_26.jpg: 640x480 (no detections), 452.2ms\n",
            "Speed: 1.0ms preprocess, 452.2ms inference, 0.5ms postprocess per image at shape (1, 3, 640, 640)\n",
            "\n",
            "image 1/1 /content/tables_extracted/page_27.jpg: 640x480 (no detections), 463.4ms\n",
            "Speed: 1.0ms preprocess, 463.4ms inference, 0.6ms postprocess per image at shape (1, 3, 640, 640)\n",
            "\n",
            "image 1/1 /content/tables_extracted/page_28.jpg: 640x480 1 borderless, 538.8ms\n",
            "Speed: 1.0ms preprocess, 538.8ms inference, 1.4ms postprocess per image at shape (1, 3, 640, 640)\n",
            "\n"
          ]
        },
        {
          "output_type": "stream",
          "name": "stdout",
          "text": [
            "Tableau enregistré : tables_extracted/table_page28_1.jpg\n"
          ]
        },
        {
          "output_type": "stream",
          "name": "stderr",
          "text": [
            "image 1/1 /content/tables_extracted/page_29.jpg: 640x480 (no detections), 734.1ms\n",
            "Speed: 1.2ms preprocess, 734.1ms inference, 0.7ms postprocess per image at shape (1, 3, 640, 640)\n",
            "\n",
            "image 1/1 /content/tables_extracted/page_30.jpg: 640x480 (no detections), 733.2ms\n",
            "Speed: 1.1ms preprocess, 733.2ms inference, 0.8ms postprocess per image at shape (1, 3, 640, 640)\n",
            "\n",
            "image 1/1 /content/tables_extracted/page_31.jpg: 640x480 (no detections), 741.4ms\n",
            "Speed: 1.2ms preprocess, 741.4ms inference, 0.7ms postprocess per image at shape (1, 3, 640, 640)\n",
            "\n",
            "image 1/1 /content/tables_extracted/page_32.jpg: 640x480 (no detections), 771.3ms\n",
            "Speed: 1.2ms preprocess, 771.3ms inference, 0.7ms postprocess per image at shape (1, 3, 640, 640)\n",
            "\n",
            "image 1/1 /content/tables_extracted/page_33.jpg: 640x480 (no detections), 531.2ms\n",
            "Speed: 1.3ms preprocess, 531.2ms inference, 0.5ms postprocess per image at shape (1, 3, 640, 640)\n",
            "\n",
            "image 1/1 /content/tables_extracted/page_34.jpg: 640x480 2 borderlesss, 472.1ms\n",
            "Speed: 1.1ms preprocess, 472.1ms inference, 1.1ms postprocess per image at shape (1, 3, 640, 640)\n",
            "\n"
          ]
        },
        {
          "output_type": "stream",
          "name": "stdout",
          "text": [
            "Tableau enregistré : tables_extracted/table_page34_1.jpg\n",
            "Tableau enregistré : tables_extracted/table_page34_2.jpg\n"
          ]
        },
        {
          "output_type": "stream",
          "name": "stderr",
          "text": [
            "image 1/1 /content/tables_extracted/page_35.jpg: 640x480 (no detections), 451.0ms\n",
            "Speed: 1.2ms preprocess, 451.0ms inference, 0.5ms postprocess per image at shape (1, 3, 640, 640)\n",
            "\n",
            "image 1/1 /content/tables_extracted/page_36.jpg: 640x480 (no detections), 460.4ms\n",
            "Speed: 1.0ms preprocess, 460.4ms inference, 0.5ms postprocess per image at shape (1, 3, 640, 640)\n",
            "\n",
            "image 1/1 /content/tables_extracted/page_37.jpg: 640x480 (no detections), 450.2ms\n",
            "Speed: 1.0ms preprocess, 450.2ms inference, 0.5ms postprocess per image at shape (1, 3, 640, 640)\n",
            "\n",
            "image 1/1 /content/tables_extracted/page_38.jpg: 640x480 (no detections), 468.3ms\n",
            "Speed: 1.0ms preprocess, 468.3ms inference, 0.5ms postprocess per image at shape (1, 3, 640, 640)\n",
            "\n",
            "image 1/1 /content/tables_extracted/page_39.jpg: 640x480 (no detections), 456.3ms\n",
            "Speed: 1.0ms preprocess, 456.3ms inference, 0.6ms postprocess per image at shape (1, 3, 640, 640)\n",
            "\n",
            "image 1/1 /content/tables_extracted/page_40.jpg: 640x480 (no detections), 442.7ms\n",
            "Speed: 1.0ms preprocess, 442.7ms inference, 0.5ms postprocess per image at shape (1, 3, 640, 640)\n",
            "\n",
            "image 1/1 /content/tables_extracted/page_41.jpg: 640x480 (no detections), 470.0ms\n",
            "Speed: 1.1ms preprocess, 470.0ms inference, 1.4ms postprocess per image at shape (1, 3, 640, 640)\n",
            "\n",
            "image 1/1 /content/tables_extracted/page_42.jpg: 640x480 (no detections), 449.9ms\n",
            "Speed: 0.9ms preprocess, 449.9ms inference, 0.5ms postprocess per image at shape (1, 3, 640, 640)\n",
            "\n",
            "image 1/1 /content/tables_extracted/page_43.jpg: 640x480 (no detections), 459.0ms\n",
            "Speed: 0.9ms preprocess, 459.0ms inference, 0.5ms postprocess per image at shape (1, 3, 640, 640)\n",
            "\n",
            "image 1/1 /content/tables_extracted/page_44.jpg: 640x480 (no detections), 461.2ms\n",
            "Speed: 1.1ms preprocess, 461.2ms inference, 0.5ms postprocess per image at shape (1, 3, 640, 640)\n",
            "\n",
            "image 1/1 /content/tables_extracted/page_45.jpg: 640x480 (no detections), 464.2ms\n",
            "Speed: 1.0ms preprocess, 464.2ms inference, 0.5ms postprocess per image at shape (1, 3, 640, 640)\n",
            "\n",
            "image 1/1 /content/tables_extracted/page_46.jpg: 640x480 (no detections), 470.9ms\n",
            "Speed: 1.0ms preprocess, 470.9ms inference, 0.5ms postprocess per image at shape (1, 3, 640, 640)\n",
            "\n",
            "image 1/1 /content/tables_extracted/page_47.jpg: 640x480 (no detections), 453.9ms\n",
            "Speed: 1.0ms preprocess, 453.9ms inference, 0.7ms postprocess per image at shape (1, 3, 640, 640)\n",
            "\n",
            "image 1/1 /content/tables_extracted/page_48.jpg: 640x480 (no detections), 470.1ms\n",
            "Speed: 1.0ms preprocess, 470.1ms inference, 0.5ms postprocess per image at shape (1, 3, 640, 640)\n",
            "\n",
            "image 1/1 /content/tables_extracted/page_49.jpg: 640x480 2 bordereds, 451.4ms\n",
            "Speed: 1.0ms preprocess, 451.4ms inference, 1.2ms postprocess per image at shape (1, 3, 640, 640)\n",
            "\n"
          ]
        },
        {
          "output_type": "stream",
          "name": "stdout",
          "text": [
            "Tableau enregistré : tables_extracted/table_page49_1.jpg\n",
            "Tableau enregistré : tables_extracted/table_page49_2.jpg\n"
          ]
        },
        {
          "output_type": "stream",
          "name": "stderr",
          "text": [
            "image 1/1 /content/tables_extracted/page_50.jpg: 640x480 (no detections), 663.5ms\n",
            "Speed: 1.0ms preprocess, 663.5ms inference, 0.6ms postprocess per image at shape (1, 3, 640, 640)\n",
            "\n",
            "image 1/1 /content/tables_extracted/page_51.jpg: 640x480 (no detections), 715.8ms\n",
            "Speed: 1.2ms preprocess, 715.8ms inference, 0.6ms postprocess per image at shape (1, 3, 640, 640)\n",
            "\n",
            "image 1/1 /content/tables_extracted/page_52.jpg: 640x480 (no detections), 719.5ms\n",
            "Speed: 1.1ms preprocess, 719.5ms inference, 0.6ms postprocess per image at shape (1, 3, 640, 640)\n",
            "\n",
            "image 1/1 /content/tables_extracted/page_53.jpg: 640x480 (no detections), 772.8ms\n",
            "Speed: 1.1ms preprocess, 772.8ms inference, 3.1ms postprocess per image at shape (1, 3, 640, 640)\n",
            "\n",
            "image 1/1 /content/tables_extracted/page_54.jpg: 640x480 (no detections), 740.2ms\n",
            "Speed: 1.1ms preprocess, 740.2ms inference, 0.8ms postprocess per image at shape (1, 3, 640, 640)\n",
            "\n",
            "image 1/1 /content/tables_extracted/page_55.jpg: 640x480 1 borderless, 458.5ms\n",
            "Speed: 1.1ms preprocess, 458.5ms inference, 1.0ms postprocess per image at shape (1, 3, 640, 640)\n",
            "\n"
          ]
        },
        {
          "output_type": "stream",
          "name": "stdout",
          "text": [
            "Tableau enregistré : tables_extracted/table_page55_1.jpg\n"
          ]
        },
        {
          "output_type": "stream",
          "name": "stderr",
          "text": [
            "image 1/1 /content/tables_extracted/page_56.jpg: 640x480 (no detections), 469.8ms\n",
            "Speed: 1.1ms preprocess, 469.8ms inference, 0.5ms postprocess per image at shape (1, 3, 640, 640)\n",
            "\n",
            "image 1/1 /content/tables_extracted/page_57.jpg: 640x480 (no detections), 448.8ms\n",
            "Speed: 1.1ms preprocess, 448.8ms inference, 0.5ms postprocess per image at shape (1, 3, 640, 640)\n",
            "\n",
            "image 1/1 /content/tables_extracted/page_58.jpg: 640x480 (no detections), 493.2ms\n",
            "Speed: 1.1ms preprocess, 493.2ms inference, 0.5ms postprocess per image at shape (1, 3, 640, 640)\n",
            "\n",
            "image 1/1 /content/tables_extracted/page_59.jpg: 640x480 (no detections), 444.4ms\n",
            "Speed: 1.0ms preprocess, 444.4ms inference, 0.6ms postprocess per image at shape (1, 3, 640, 640)\n",
            "\n",
            "image 1/1 /content/tables_extracted/page_60.jpg: 640x480 3 borderlesss, 482.4ms\n",
            "Speed: 1.1ms preprocess, 482.4ms inference, 1.0ms postprocess per image at shape (1, 3, 640, 640)\n",
            "\n"
          ]
        },
        {
          "output_type": "stream",
          "name": "stdout",
          "text": [
            "Tableau enregistré : tables_extracted/table_page60_1.jpg\n",
            "Tableau enregistré : tables_extracted/table_page60_2.jpg\n",
            "Tableau enregistré : tables_extracted/table_page60_3.jpg\n"
          ]
        },
        {
          "output_type": "stream",
          "name": "stderr",
          "text": [
            "image 1/1 /content/tables_extracted/page_61.jpg: 640x480 1 borderless, 467.5ms\n",
            "Speed: 1.0ms preprocess, 467.5ms inference, 1.1ms postprocess per image at shape (1, 3, 640, 640)\n",
            "\n"
          ]
        },
        {
          "output_type": "stream",
          "name": "stdout",
          "text": [
            "Tableau enregistré : tables_extracted/table_page61_1.jpg\n"
          ]
        },
        {
          "output_type": "stream",
          "name": "stderr",
          "text": [
            "image 1/1 /content/tables_extracted/page_62.jpg: 640x480 (no detections), 446.0ms\n",
            "Speed: 1.0ms preprocess, 446.0ms inference, 0.5ms postprocess per image at shape (1, 3, 640, 640)\n",
            "\n",
            "image 1/1 /content/tables_extracted/page_63.jpg: 640x480 2 borderlesss, 469.5ms\n",
            "Speed: 1.0ms preprocess, 469.5ms inference, 1.0ms postprocess per image at shape (1, 3, 640, 640)\n",
            "\n"
          ]
        },
        {
          "output_type": "stream",
          "name": "stdout",
          "text": [
            "Tableau enregistré : tables_extracted/table_page63_1.jpg\n",
            "Tableau enregistré : tables_extracted/table_page63_2.jpg\n"
          ]
        },
        {
          "output_type": "stream",
          "name": "stderr",
          "text": [
            "image 1/1 /content/tables_extracted/page_64.jpg: 640x480 2 borderlesss, 456.1ms\n",
            "Speed: 1.1ms preprocess, 456.1ms inference, 1.1ms postprocess per image at shape (1, 3, 640, 640)\n",
            "\n"
          ]
        },
        {
          "output_type": "stream",
          "name": "stdout",
          "text": [
            "Tableau enregistré : tables_extracted/table_page64_1.jpg\n",
            "Tableau enregistré : tables_extracted/table_page64_2.jpg\n"
          ]
        },
        {
          "output_type": "stream",
          "name": "stderr",
          "text": [
            "image 1/1 /content/tables_extracted/page_65.jpg: 640x480 (no detections), 475.3ms\n",
            "Speed: 1.0ms preprocess, 475.3ms inference, 0.5ms postprocess per image at shape (1, 3, 640, 640)\n",
            "\n",
            "image 1/1 /content/tables_extracted/page_66.jpg: 640x480 1 borderless, 443.1ms\n",
            "Speed: 1.1ms preprocess, 443.1ms inference, 1.0ms postprocess per image at shape (1, 3, 640, 640)\n",
            "\n"
          ]
        },
        {
          "output_type": "stream",
          "name": "stdout",
          "text": [
            "Tableau enregistré : tables_extracted/table_page66_1.jpg\n"
          ]
        },
        {
          "output_type": "stream",
          "name": "stderr",
          "text": [
            "image 1/1 /content/tables_extracted/page_67.jpg: 640x480 (no detections), 454.5ms\n",
            "Speed: 1.1ms preprocess, 454.5ms inference, 0.5ms postprocess per image at shape (1, 3, 640, 640)\n",
            "\n",
            "image 1/1 /content/tables_extracted/page_68.jpg: 640x480 (no detections), 469.0ms\n",
            "Speed: 1.0ms preprocess, 469.0ms inference, 0.6ms postprocess per image at shape (1, 3, 640, 640)\n",
            "\n",
            "image 1/1 /content/tables_extracted/page_69.jpg: 640x480 (no detections), 459.1ms\n",
            "Speed: 1.1ms preprocess, 459.1ms inference, 0.5ms postprocess per image at shape (1, 3, 640, 640)\n",
            "\n",
            "image 1/1 /content/tables_extracted/page_70.jpg: 640x480 (no detections), 473.1ms\n",
            "Speed: 1.1ms preprocess, 473.1ms inference, 0.5ms postprocess per image at shape (1, 3, 640, 640)\n",
            "\n",
            "image 1/1 /content/tables_extracted/page_71.jpg: 640x480 3 borderlesss, 547.1ms\n",
            "Speed: 1.1ms preprocess, 547.1ms inference, 1.4ms postprocess per image at shape (1, 3, 640, 640)\n",
            "\n"
          ]
        },
        {
          "output_type": "stream",
          "name": "stdout",
          "text": [
            "Tableau enregistré : tables_extracted/table_page71_1.jpg\n",
            "Tableau enregistré : tables_extracted/table_page71_2.jpg\n",
            "Tableau enregistré : tables_extracted/table_page71_3.jpg\n"
          ]
        },
        {
          "output_type": "stream",
          "name": "stderr",
          "text": [
            "image 1/1 /content/tables_extracted/page_72.jpg: 640x480 1 borderless, 718.1ms\n",
            "Speed: 1.1ms preprocess, 718.1ms inference, 1.3ms postprocess per image at shape (1, 3, 640, 640)\n",
            "\n"
          ]
        },
        {
          "output_type": "stream",
          "name": "stdout",
          "text": [
            "Tableau enregistré : tables_extracted/table_page72_1.jpg\n"
          ]
        },
        {
          "output_type": "stream",
          "name": "stderr",
          "text": [
            "image 1/1 /content/tables_extracted/page_73.jpg: 640x480 (no detections), 710.3ms\n",
            "Speed: 1.1ms preprocess, 710.3ms inference, 0.7ms postprocess per image at shape (1, 3, 640, 640)\n",
            "\n",
            "image 1/1 /content/tables_extracted/page_74.jpg: 640x480 1 bordered, 771.3ms\n",
            "Speed: 1.1ms preprocess, 771.3ms inference, 1.4ms postprocess per image at shape (1, 3, 640, 640)\n",
            "\n"
          ]
        },
        {
          "output_type": "stream",
          "name": "stdout",
          "text": [
            "Tableau enregistré : tables_extracted/table_page74_1.jpg\n"
          ]
        },
        {
          "output_type": "stream",
          "name": "stderr",
          "text": [
            "image 1/1 /content/tables_extracted/page_75.jpg: 640x480 1 borderless, 770.7ms\n",
            "Speed: 1.1ms preprocess, 770.7ms inference, 1.7ms postprocess per image at shape (1, 3, 640, 640)\n",
            "\n"
          ]
        },
        {
          "output_type": "stream",
          "name": "stdout",
          "text": [
            "Tableau enregistré : tables_extracted/table_page75_1.jpg\n"
          ]
        },
        {
          "output_type": "stream",
          "name": "stderr",
          "text": [
            "image 1/1 /content/tables_extracted/page_76.jpg: 640x480 1 borderless, 469.9ms\n",
            "Speed: 1.0ms preprocess, 469.9ms inference, 1.1ms postprocess per image at shape (1, 3, 640, 640)\n",
            "\n"
          ]
        },
        {
          "output_type": "stream",
          "name": "stdout",
          "text": [
            "Tableau enregistré : tables_extracted/table_page76_1.jpg\n"
          ]
        },
        {
          "output_type": "stream",
          "name": "stderr",
          "text": [
            "image 1/1 /content/tables_extracted/page_77.jpg: 640x480 (no detections), 457.9ms\n",
            "Speed: 1.1ms preprocess, 457.9ms inference, 0.5ms postprocess per image at shape (1, 3, 640, 640)\n",
            "\n",
            "image 1/1 /content/tables_extracted/page_78.jpg: 640x480 1 bordered, 463.1ms\n",
            "Speed: 1.1ms preprocess, 463.1ms inference, 1.1ms postprocess per image at shape (1, 3, 640, 640)\n",
            "\n"
          ]
        },
        {
          "output_type": "stream",
          "name": "stdout",
          "text": [
            "Tableau enregistré : tables_extracted/table_page78_1.jpg\n"
          ]
        },
        {
          "output_type": "stream",
          "name": "stderr",
          "text": [
            "image 1/1 /content/tables_extracted/page_79.jpg: 640x480 (no detections), 466.5ms\n",
            "Speed: 1.1ms preprocess, 466.5ms inference, 0.5ms postprocess per image at shape (1, 3, 640, 640)\n",
            "\n",
            "image 1/1 /content/tables_extracted/page_80.jpg: 640x480 1 borderless, 464.3ms\n",
            "Speed: 1.0ms preprocess, 464.3ms inference, 1.4ms postprocess per image at shape (1, 3, 640, 640)\n",
            "\n"
          ]
        },
        {
          "output_type": "stream",
          "name": "stdout",
          "text": [
            "Tableau enregistré : tables_extracted/table_page80_1.jpg\n"
          ]
        },
        {
          "output_type": "stream",
          "name": "stderr",
          "text": [
            "image 1/1 /content/tables_extracted/page_81.jpg: 640x480 (no detections), 461.0ms\n",
            "Speed: 1.1ms preprocess, 461.0ms inference, 0.8ms postprocess per image at shape (1, 3, 640, 640)\n",
            "\n",
            "image 1/1 /content/tables_extracted/page_82.jpg: 640x480 (no detections), 456.1ms\n",
            "Speed: 1.1ms preprocess, 456.1ms inference, 0.5ms postprocess per image at shape (1, 3, 640, 640)\n",
            "\n",
            "image 1/1 /content/tables_extracted/page_83.jpg: 640x480 1 borderless, 468.7ms\n",
            "Speed: 1.1ms preprocess, 468.7ms inference, 1.1ms postprocess per image at shape (1, 3, 640, 640)\n",
            "\n"
          ]
        },
        {
          "output_type": "stream",
          "name": "stdout",
          "text": [
            "Tableau enregistré : tables_extracted/table_page83_1.jpg\n"
          ]
        },
        {
          "output_type": "stream",
          "name": "stderr",
          "text": [
            "image 1/1 /content/tables_extracted/page_84.jpg: 640x480 1 borderless, 468.4ms\n",
            "Speed: 1.1ms preprocess, 468.4ms inference, 1.0ms postprocess per image at shape (1, 3, 640, 640)\n",
            "\n"
          ]
        },
        {
          "output_type": "stream",
          "name": "stdout",
          "text": [
            "Tableau enregistré : tables_extracted/table_page84_1.jpg\n"
          ]
        },
        {
          "output_type": "stream",
          "name": "stderr",
          "text": [
            "image 1/1 /content/tables_extracted/page_85.jpg: 480x640 1 borderless, 465.6ms\n",
            "Speed: 1.0ms preprocess, 465.6ms inference, 1.0ms postprocess per image at shape (1, 3, 640, 640)\n",
            "\n"
          ]
        },
        {
          "output_type": "stream",
          "name": "stdout",
          "text": [
            "Tableau enregistré : tables_extracted/table_page85_1.jpg\n"
          ]
        },
        {
          "output_type": "stream",
          "name": "stderr",
          "text": [
            "image 1/1 /content/tables_extracted/page_86.jpg: 480x640 1 borderless, 452.9ms\n",
            "Speed: 1.2ms preprocess, 452.9ms inference, 1.1ms postprocess per image at shape (1, 3, 640, 640)\n",
            "\n"
          ]
        },
        {
          "output_type": "stream",
          "name": "stdout",
          "text": [
            "Tableau enregistré : tables_extracted/table_page86_1.jpg\n"
          ]
        },
        {
          "output_type": "stream",
          "name": "stderr",
          "text": [
            "image 1/1 /content/tables_extracted/page_87.jpg: 480x640 1 borderless, 467.1ms\n",
            "Speed: 1.1ms preprocess, 467.1ms inference, 1.1ms postprocess per image at shape (1, 3, 640, 640)\n",
            "\n"
          ]
        },
        {
          "output_type": "stream",
          "name": "stdout",
          "text": [
            "Tableau enregistré : tables_extracted/table_page87_1.jpg\n"
          ]
        },
        {
          "output_type": "stream",
          "name": "stderr",
          "text": [
            "image 1/1 /content/tables_extracted/page_88.jpg: 480x640 1 borderless, 461.0ms\n",
            "Speed: 1.0ms preprocess, 461.0ms inference, 1.1ms postprocess per image at shape (1, 3, 640, 640)\n",
            "\n"
          ]
        },
        {
          "output_type": "stream",
          "name": "stdout",
          "text": [
            "Tableau enregistré : tables_extracted/table_page88_1.jpg\n"
          ]
        },
        {
          "output_type": "stream",
          "name": "stderr",
          "text": [
            "image 1/1 /content/tables_extracted/page_89.jpg: 480x640 1 borderless, 470.0ms\n",
            "Speed: 1.1ms preprocess, 470.0ms inference, 1.1ms postprocess per image at shape (1, 3, 640, 640)\n",
            "\n"
          ]
        },
        {
          "output_type": "stream",
          "name": "stdout",
          "text": [
            "Tableau enregistré : tables_extracted/table_page89_1.jpg\n"
          ]
        },
        {
          "output_type": "stream",
          "name": "stderr",
          "text": [
            "image 1/1 /content/tables_extracted/page_90.jpg: 480x640 1 borderless, 473.8ms\n",
            "Speed: 1.0ms preprocess, 473.8ms inference, 1.5ms postprocess per image at shape (1, 3, 640, 640)\n",
            "\n"
          ]
        },
        {
          "output_type": "stream",
          "name": "stdout",
          "text": [
            "Tableau enregistré : tables_extracted/table_page90_1.jpg\n"
          ]
        },
        {
          "output_type": "stream",
          "name": "stderr",
          "text": [
            "image 1/1 /content/tables_extracted/page_91.jpg: 480x640 1 bordered, 1 borderless, 476.1ms\n",
            "Speed: 1.0ms preprocess, 476.1ms inference, 1.5ms postprocess per image at shape (1, 3, 640, 640)\n",
            "\n"
          ]
        },
        {
          "output_type": "stream",
          "name": "stdout",
          "text": [
            "Tableau enregistré : tables_extracted/table_page91_1.jpg\n",
            "Tableau enregistré : tables_extracted/table_page91_2.jpg\n"
          ]
        },
        {
          "output_type": "stream",
          "name": "stderr",
          "text": [
            "image 1/1 /content/tables_extracted/page_92.jpg: 480x640 (no detections), 678.9ms\n",
            "Speed: 1.1ms preprocess, 678.9ms inference, 0.8ms postprocess per image at shape (1, 3, 640, 640)\n",
            "\n",
            "image 1/1 /content/tables_extracted/page_93.jpg: 480x640 1 borderless, 712.9ms\n",
            "Speed: 2.1ms preprocess, 712.9ms inference, 1.3ms postprocess per image at shape (1, 3, 640, 640)\n",
            "\n"
          ]
        },
        {
          "output_type": "stream",
          "name": "stdout",
          "text": [
            "Tableau enregistré : tables_extracted/table_page93_1.jpg\n"
          ]
        },
        {
          "output_type": "stream",
          "name": "stderr",
          "text": [
            "image 1/1 /content/tables_extracted/page_94.jpg: 480x640 (no detections), 719.9ms\n",
            "Speed: 1.1ms preprocess, 719.9ms inference, 0.8ms postprocess per image at shape (1, 3, 640, 640)\n",
            "\n",
            "image 1/1 /content/tables_extracted/page_95.jpg: 480x640 1 borderless, 783.9ms\n",
            "Speed: 1.1ms preprocess, 783.9ms inference, 1.6ms postprocess per image at shape (1, 3, 640, 640)\n",
            "\n"
          ]
        },
        {
          "output_type": "stream",
          "name": "stdout",
          "text": [
            "Tableau enregistré : tables_extracted/table_page95_1.jpg\n"
          ]
        },
        {
          "output_type": "stream",
          "name": "stderr",
          "text": [
            "image 1/1 /content/tables_extracted/page_96.jpg: 480x640 1 borderless, 750.3ms\n",
            "Speed: 1.1ms preprocess, 750.3ms inference, 1.1ms postprocess per image at shape (1, 3, 640, 640)\n",
            "\n"
          ]
        },
        {
          "output_type": "stream",
          "name": "stdout",
          "text": [
            "Tableau enregistré : tables_extracted/table_page96_1.jpg\n"
          ]
        },
        {
          "output_type": "stream",
          "name": "stderr",
          "text": [
            "image 1/1 /content/tables_extracted/page_97.jpg: 480x640 1 borderless, 454.8ms\n",
            "Speed: 1.0ms preprocess, 454.8ms inference, 1.0ms postprocess per image at shape (1, 3, 640, 640)\n",
            "\n"
          ]
        },
        {
          "output_type": "stream",
          "name": "stdout",
          "text": [
            "Tableau enregistré : tables_extracted/table_page97_1.jpg\n"
          ]
        },
        {
          "output_type": "stream",
          "name": "stderr",
          "text": [
            "image 1/1 /content/tables_extracted/page_98.jpg: 640x480 1 borderless, 450.7ms\n",
            "Speed: 1.1ms preprocess, 450.7ms inference, 1.0ms postprocess per image at shape (1, 3, 640, 640)\n"
          ]
        },
        {
          "output_type": "stream",
          "name": "stdout",
          "text": [
            "Tableau enregistré : tables_extracted/table_page98_1.jpg\n",
            "Nombre de tables extraites : 59\n"
          ]
        }
      ]
    },
    {
      "cell_type": "code",
      "source": [
        "# Transformation des images en tables\n",
        "for image_path in table_images:\n",
        "        extract_text_from_table_image(image_path)"
      ],
      "metadata": {
        "colab": {
          "base_uri": "https://localhost:8080/"
        },
        "id": "fyrlw5djYcVx",
        "outputId": "ffd22b3b-ae0f-4340-f257-bfe741aacb8b"
      },
      "execution_count": null,
      "outputs": [
        {
          "output_type": "stream",
          "name": "stdout",
          "text": [
            "Contenu extrait de l'image tables_extracted/table_page1_1.jpg :\n",
            "\n",
            "-----------------------------------------------------------------------------------------\n",
            "Contenu extrait de l'image tables_extracted/table_page2_1.jpg :\n",
            "\n",
            "AL. ACtIVILG eee  cccccccscsescseseseccscscsesssesesesssesavassssesesesssavesasssasacsesesasesasasasaeseseseuasacssassssesesasscacssssataeersasee G \n",
            "A2. RESultat de SOUSCTIPTION ..........csecesecseesesestsessesesesesesnseeseesseseststsnsesseseetsesteseasesasetstetstesetesetetseeeees LO \n",
            "A3. Resultat des INVEStISSEMENES  0.0... cccccsesesseeteessscscseseseseseseescscscssscsesesseetscscsssssesestsasssssssssasseseses QU \n",
            "A4. Resultat d@S AULFES ACTIVITES oo... ccc ccccseseescseecseseeseseescsesscsesecsesecsssessssecsestsessesesssesatsesstsecsseeases 2 \n",
            "\n",
            "-----------------------------------------------------------------------------------------\n",
            "Contenu extrait de l'image tables_extracted/table_page5_1.jpg :\n",
            "\n",
            "            oe                            :                    er     RE  eee            g              : \n",
            "        Comite daudit               bore  eel   matte oy                        5                 ere    eatehoel lly \n",
            "                                                  v                 OTE            y                           ia \n",
            "                                                    DIRECTION GENERALE \n",
            "                                                    Peyote       are \n",
            "                                               DIRECTEURS GENERAUX DELEGUES \n",
            "   Le Directeur gen6ral et les Directeurs generaux dlgues sont investis des pouvoirs les plus tendus pour agir en toute circonstance au nom de Covea et representent \n",
            "                                               Covea dans ses rapports avec les tiers \n",
            "                                                    Cert  at cc  a \n",
            "      Le Comite executif assiste le Directeur general et les Directeurs generaux delegues dans la coordination operationnelle des entites et des activtes du Groupe \n",
            "\n",
            "-----------------------------------------------------------------------------------------\n",
            "Contenu extrait de l'image tables_extracted/table_page6_1.jpg :\n",
            "\n",
            "   So -relae keeles \n",
            "         erectile \n",
            " Provisions techniques en \n",
            "   valeur conomique \n",
            "      cf. partie D2 \n",
            "\n",
            "-----------------------------------------------------------------------------------------\n",
            "Contenu extrait de l'image tables_extracted/table_page8_1.jpg :\n",
            "\n",
            "                                        ASSURANCE VIE      ASSURANCE                                         5 \n",
            "      ASSURANCE  NON-VIE FRANCE            FRANCE          Tete              REASSURANCE        PO   a ea ny \n",
            " GMF ASSURANCES        MMA IARD            MMA VIE        COVEA INSURANCE      PARTNERRE***      COVEA FINANCE \n",
            " MAAF ASSURANCES                                           CSE INSURANCE \n",
            "       SA              BPCE IARD           MAAF VIE          COMPANY \n",
            "                                                         MEDICAL INSURANCE \n",
            "  LA SAUVEGARDE    FIDELIA ASSISTANCE      GMF VIE           COMPANY** \n",
            "                  :  ee                                                       * Societe de reassurance interne \n",
            "COVER EROI-GHON:   :   COVEA LUX*   1                                         * Dstention par MMA IARD Assurances Mutuelle \n",
            "    JURIDIQUE     a                 &                                         *8% Enaamhin dec antitoe cnnefitiiant le areyine P- \n",
            "\n",
            "-----------------------------------------------------------------------------------------\n",
            "Contenu extrait de l'image tables_extracted/table_page8_2.jpg :\n",
            "\n",
            "                      MMA  VIE \n",
            "                    ASSURANCES \n",
            "                  MUTUELLES \n",
            "                 i    MMA IARD \n",
            "  LEFINISTERE       ASSURANCES \n",
            "                     MUTUELLES \n",
            "\n",
            "-----------------------------------------------------------------------------------------\n",
            "Contenu extrait de l'image tables_extracted/table_page8_3.jpg :\n",
            "\n",
            "a                                              7 \n",
            "1                                              1 \n",
            ": \n",
            "1                                              I \n",
            "I                                              1 \n",
            "1 \n",
            ": \n",
            "i               MAAF \n",
            "i        ASSURANCES.                           1 \n",
            "iL \n",
            "\n",
            "-----------------------------------------------------------------------------------------\n",
            "Contenu extrait de l'image tables_extracted/table_page9_1.jpg :\n",
            "\n",
            "Assurance - entites frangaises                                         15306     15408 \n",
            "Assurance - entites internationales                                     1568      1951 \n",
            "Activites dassurance directe                                           16874     17359 \n",
            "Activites de r6assurance                                                5 822     1705 \n",
            "Primes acquises du Groupe                                              22696     19064 \n",
            "\n",
            "-----------------------------------------------------------------------------------------\n",
            "Contenu extrait de l'image tables_extracted/table_page15_1.jpg :\n",
            "\n",
            "En millions deuros                                                       2022      2021 \n",
            "Assurance France                                                          778       883 \n",
            "   Dont assurance non-vie                                                 512       602 \n",
            "   Dont assurance vie                                                     266       280 \n",
            "Assurance internationale                                                  -117       24 \n",
            " Rassurance                                                               214       -92 \n",
            "Autres activites                                                           21        24 \n",
            "Resultat net /part du Groupe                                              896       838 \n",
            "\n",
            "-----------------------------------------------------------------------------------------\n",
            "Contenu extrait de l'image tables_extracted/table_page15_2.jpg :\n",
            "\n",
            "Le rsultat net des  autres  activites reste stable et s@leve a 21  millions deuros au  3: \n",
            "decembre  2022. \n",
            "\n",
            "-----------------------------------------------------------------------------------------\n",
            "Contenu extrait de l'image tables_extracted/table_page16_1.jpg :\n",
            "\n",
            "En millions deuros                                                       2022       2021 \n",
            "Primes acquises                                                        15 306     15 408 \n",
            "Dont assurance de biens et responsabilite                               9 888      9 839 \n",
            "Dont assurance de personnes                                             5 418      5 569 \n",
            "Resultat de lexploitation economique                                    1059       1321 \n",
            "Dont assurance non-vie                                                    695        942 \n",
            "Dont assurance vie                                                        364        379 \n",
            "Rsultat net part du Groupe                                                778        883 \n",
            "Dont assurance non-vie                                                    512        602 \n",
            "Dont acciirance vie                                                       966        IO \n",
            "\n",
            "-----------------------------------------------------------------------------------------\n",
            "Contenu extrait de l'image tables_extracted/table_page16_2.jpg :\n",
            "\n",
            "Risques prives                                                           2091         2 055 \n",
            "Professionnels et entreprises                                            Bio25        3542 \n",
            "Protection juridique et assistance                                         328         310 \n",
            "Autres                                                                      54           58 \n",
            "Total assurance de biens et responsabilite                               9 888        9 839 \n",
            "Sante et prevoyance                                                      2470         2 392 \n",
            "Epargne - Retraite                                                       2 948        3177 \n",
            "Total assurance de personnes                                             5 418        5 569 \n",
            "Total nrimec acqiicec                                                   15 2n6       15 Ang \n",
            "\n",
            "-----------------------------------------------------------------------------------------\n",
            "Contenu extrait de l'image tables_extracted/table_page18_1.jpg :\n",
            "\n",
            "En millions a euros                                                      2U22       2U21 \n",
            "Primes acquises                                                          1568       1951 \n",
            "Dont assurance non-vie                                                   1158       1073 \n",
            "Dont assurance vie                                                        409        878 \n",
            "Resultat de lexploitation economique                                     - 108         90 \n",
            "Dont assurance non-vie                                                    -132        44 \n",
            "Dont assurance vie                                                         24         47 \n",
            "Resultat net part du Groupe                                               -117         24 \n",
            "Dont assurance non-vie                                                    -123         5 \n",
            "Dont assurance vie                                                          6          29 \n",
            "\n",
            "-----------------------------------------------------------------------------------------\n",
            "Contenu extrait de l'image tables_extracted/table_page19_1.jpg :\n",
            "\n",
            "En millions deuros                                                        2022        2021 \n",
            "Primes acquises                                                           5 822      1705 \n",
            "Dont r6assurance non-vie                                                  SHOT         349 \n",
            "Dont reassurance vie                                                      2 065      1 356 \n",
            "Resultat de lexploitation economique                                        253       -107 \n",
            "Dont PartnerRe                                                             409           - \n",
            "Dont Cova  Cooperations                                                    -156       -107 \n",
            "Rsultat  net part du Groupe                                                 214        -92 \n",
            "Dont PartnerRe                                                              348          - \n",
            "Dont Covea Cooperations                                                    -134        -92 \n",
            "\n",
            "-----------------------------------------------------------------------------------------\n",
            "Contenu extrait de l'image tables_extracted/table_page20_1.jpg :\n",
            "\n",
            "                                     2022                                     2021 \n",
            "      ss              Revenus         Plus et      Produits    Revenus         Plus et    Produits \n",
            "En  millions          :            :               :    :     :     :       :             :     : \n",
            "di                   financiers moins-values      financiers  financiers moins-values    financiers \n",
            "  euros \n",
            "                          nets       nettes**           nets       nets       nettes**         nets \n",
            "Produits de taux*        1529           -100          1429       1114             57         1171 \n",
            "Actions*                  179            510            689        146            526          672 \n",
            "Immobilier*               182             18            200        170             14          184 \n",
            "Autres***                   12             -2            10         -14             1           -13 \n",
            "Total                    40n9            AMG          9297       1A1G             BOR        2n14 \n",
            "\n",
            "-----------------------------------------------------------------------------------------\n",
            "Contenu extrait de l'image tables_extracted/table_page21_1.jpg :\n",
            "\n",
            "En millions deuros                                                      2022       2021 \n",
            "Chiffre daffaires                                                        ats        126 \n",
            "Dont Covea Finance                                                       103        115 \n",
            "Dont autres societes                                                      10         11 \n",
            "Rsultat net part du Groupe                                                2          24 \n",
            "Dont Covea Finance                                                       als         31 \n",
            "Dont autres societes                                                       6          af \n",
            "\n",
            "-----------------------------------------------------------------------------------------\n",
            "Contenu extrait de l'image tables_extracted/table_page23_1.jpg :\n",
            "\n",
            " NOMS                              FONCUONS  au sein QU LONSel GQ aaministration \n",
            "                                   President du Conseil dadministration \n",
            "Michel Gougnard                    Membre du Comite strat6gique \n",
            "                                   Membre du Comite daudit \n",
            "    ae                             Administrateur et administrateur delegue \n",
            "Christian Baudon                                 op     a \n",
            "                                   Membre du Comite strategique \n",
            "Jean-Pierre Jouyet                Administrateur et administrateur referent     a \n",
            "                                   Membre du Comite des rmunerations et des nominations \n",
            "       :        :                  Administrateur \n",
            "eee         panies                 Membre du Comite des risques \n",
            "                                   Administrateur \n",
            "Bernard Barbottin                  Membre du Comite des remunerations et des nominations \n",
            "                                   Membre du Comite strategique \n",
            "                                   Administratrice \n",
            "Helene Bejui-Hugues                Presidente du Comit des r6munerations et des nominations \n",
            "                                   Membre du Comite strat6gique \n",
            "MAAF  Sant6 representee par Luce   Acicniristatrice \n",
            "Berille \n",
            "Sophie Biou                        Administratrice \n",
            "SMI represente6e par Guy Bleyer    Administrateur \n",
            "Ae    nneasone    par Arcangelo    Admninisteateur \n",
            "MMA   IARD Assurances Mutuelles    Administrateur \n",
            "renrecentee nar Michel Courcat     Meamhre dit Comite daridit \n",
            "\n",
            "-----------------------------------------------------------------------------------------\n",
            "Contenu extrait de l'image tables_extracted/table_page23_2.jpg :\n",
            "\n",
            "             :                           2                    cere     eeu     eed     9              cf    i \n",
            "       Comite  daudit               bere       este oy                                          Comite strategique \n",
            "                                                                       rhea      ty \n",
            "                                                   DIRECTION GENERALE \n",
            "                                                  ennai        iecnnnn \n",
            "                                                   DIRECTEUR GENERAL \n",
            "                                                            EEE \n",
            "                                              DIRECTEURS GENERAUX DELEGUES \n",
            "   Le Directeur general et les Directeurs generaux d&legues sont investis des pouvoirs les plus 6tendus pour agir en toute circonstance au nom de Covea et representent \n",
            "                                                        Ee eee  ok    tee \n",
            "Serene ee eee eee ee eee eee eee ee ee       eee  eee eee   ee  ee  eee ee                                           ae \n",
            "                                                   fete tad cae \n",
            "      Le Comite executif assiste le Directeur general et les Directeurs genraux del@gues dans la coordination operationnelle des entites et des activites du Groupe \n",
            " Acompter du 1* Janvier 2023. le Comite executif Covea est remplace par le Comite de direction Groupe \n",
            "                                    iqure    1*  Gniivernance  a            t \n",
            "\n",
            "-----------------------------------------------------------------------------------------\n",
            "Contenu extrait de l'image tables_extracted/table_page24_1.jpg :\n",
            "\n",
            "         ae                        Administrateur \n",
            " pane  Poetic                      Membre du Comite des remunerations et des nominations \n",
            "    sue         :                  Administrateur \n",
            " ehisuan Delaneige                 Membre du Comite des rmunerations et des nominations \n",
            "   2                               Administrateur \n",
            " inary  Perez                      President du Comit strategique \n",
            "                                   Administrateur \n",
            "                                   President du Comite daudit \n",
            " ean  lain                         Membre du Comite des risques \n",
            "                                   Membre du Comite des remunerations et des nominations \n",
            "                                   Administratrice \n",
            " AnneJose  Fulscrae                President du Comit des risques \n",
            "              9                    Membre du Comite daudit \n",
            "                                   Membre du Comite strat6gique \n",
            " MMA  Vie Assurances Mutuelles     Administrateur \n",
            " representee par Christophe Guettier Membre du Comite des risques \n",
            " Eric Lagarde                      Administrateur \n",
            " AM-GMF  representee par               nae   : \n",
            " Bernadette Le Bourgeois          AcimInsHtatniCke \n",
            "     2     :                       Administrateur \n",
            " Baste Maraniez                    Membre du Comit  strategique \n",
            "  ae       rae                     Administratrice \n",
            " ee    me                          Membre du Comite strat6gique \n",
            "    :           :                  Administratrice \n",
            "sab see                            Membre du Comite daudit \n",
            " MAAF  Assurances representee      Administrateur \n",
            " par Jean-Pierre Paquien           Membre du Comite des risques \n",
            " Jean-Louis Reynet                 Administrateur \n",
            " Laurent Trouve                    Administrateur \n",
            " Annick Weyler                     Adminictratrice \n",
            "\n",
            "-----------------------------------------------------------------------------------------\n",
            "Contenu extrait de l'image tables_extracted/table_page25_1.jpg :\n",
            "\n",
            " Comite strategique                                  Michel Gougnard 28/06/2022 \n",
            "\n",
            "-----------------------------------------------------------------------------------------\n",
            "Contenu extrait de l'image tables_extracted/table_page28_1.jpg :\n",
            "\n",
            "Thierry Derez. President \n",
            "Bernard Barbottin membre. \n",
            "Christian Baudon membre. \n",
            "Helne  Bejui-Hugues membre. \n",
            "Anne-Jos6 Fulggras membre. \n",
            "Michel Gougnard membre \n",
            "Andre Martinez membre. \n",
            "HdlaAne Martini mamhra \n",
            "\n",
            "-----------------------------------------------------------------------------------------\n",
            "Contenu extrait de l'image tables_extracted/table_page34_1.jpg :\n",
            "\n",
            "DATE                    FORMATION \n",
            "Mars  2022              Impact du dereglement climatique dans lactivite dAssurance \n",
            "                        Formation reglementaire : Reglement General sur la Protection des \n",
            "Avril 2022              Donnees RGPD.    Lutte Contre le Blanchiment des capitaux et le \n",
            "                        Financement du Terrorisme LCB-FT.  thique des affaires \n",
            "Juin 2022               Marches financiers et strategie dinvestissements \n",
            "Octobre  2022           Marchs  professionnels et entreprises IARD \n",
            "Novembre   2022         Systeme de gestion des risques - ORSA un outil daide a la decision \n",
            "                        Association des Assureurs Mutualistes AAM : \n",
            "Novembre   2022         Journee dinformation sur le theme: Lassurance acteur cl des transitions \n",
            "                        6nergetique. climatique et demographique \n",
            "\n",
            "-----------------------------------------------------------------------------------------\n",
            "Contenu extrait de l'image tables_extracted/table_page34_2.jpg :\n",
            "\n",
            " DATE             FORMATION \n",
            "\n",
            "-----------------------------------------------------------------------------------------\n",
            "Contenu extrait de l'image tables_extracted/table_page49_1.jpg :\n",
            "\n",
            " Risques de             Risques                Risques de            Risques                Risques \n",
            "   liquidite          strategiques             reputation            emergents            de durabilite \n",
            "\n",
            "-----------------------------------------------------------------------------------------\n",
            "Contenu extrait de l'image tables_extracted/table_page49_2.jpg :\n",
            "\n",
            "   Capital de solvabilite requis des \n",
            "  entites integrees par deduction et \n",
            "             agregation \n",
            "\n",
            "-----------------------------------------------------------------------------------------\n",
            "Contenu extrait de l'image tables_extracted/table_page55_1.jpg :\n",
            "\n",
            "Taux dinteret            4100 pdb                218 %                -7 pts \n",
            "Taux dinteret            -100 pdb                229 %                43 pts \n",
            "Immobilier               -20%                    213 %               -13 pts \n",
            "Actions                  -25%                    215 %               -11 pts \n",
            "Spreads                  450 odb                 915%                -11 ots \n",
            "\n",
            "-----------------------------------------------------------------------------------------\n",
            "Contenu extrait de l'image tables_extracted/table_page60_1.jpg :\n",
            "\n",
            "   LANG S 2 REN TS SeN aS ee                                                    I          PartnerRe       PGT TRAM eRe EN ace oe ee \n",
            " Actifs dimpdts   differes                                                      0                  852                      930 \n",
            " Passifs  dimpots   differes                                               1723                       0                     106 \n",
            "\n",
            "-----------------------------------------------------------------------------------------\n",
            "Contenu extrait de l'image tables_extracted/table_page60_2.jpg :\n",
            "\n",
            "                                                                  wae           Normes \n",
            "       yi   1                                      Normes  Solvabilite         :                         : \n",
            "En millions deuros                                                  i    frangaises Hors   Normes  francaises \n",
            "                                                                              PartnerRe \n",
            "Goodwill                                                            -                  2                1008 \n",
            "Tie    Wats    Abs acicstalbtam  MiSs \n",
            "\n",
            "-----------------------------------------------------------------------------------------\n",
            "Contenu extrait de l'image tables_extracted/table_page60_3.jpg :\n",
            "\n",
            "                                                                            -        -PartnerRe                   : \n",
            " Frais dacquisition differes                                                -              2173                    2 600 \n",
            "\n",
            "-----------------------------------------------------------------------------------------\n",
            "Contenu extrait de l'image tables_extracted/table_page61_1.jpg :\n",
            "\n",
            "                                               Normes  Solvabilite        hares \n",
            " En millions deuros                                           il   frangaises Hors Normes  frangaises \n",
            "                                                                        PartnerRe \n",
            " Biens immobiliers autres que detenus pour usage           2936             1.066              1121 \n",
            " propre \n",
            " Detentions dans des entreprises lies. y compris           9227              252                734 \n",
            " participations \n",
            "Actions                                                    4953             4022               4119 \n",
            "Obligations                                               57.151           63 313             76 785 \n",
            " Organismes de placement collectif                        13 600           11 188             13 873 \n",
            "\n",
            "-----------------------------------------------------------------------------------------\n",
            "Contenu extrait de l'image tables_extracted/table_page63_1.jpg :\n",
            "\n",
            "                                                      wae         Normes \n",
            "En millions deuros                        NDTIS  ii         frangaises Hors Normes frangaises \n",
            "                                                                 PartnerRe \n",
            "Autres actifs                                        7 763          9 392            14 884 \n",
            "\n",
            "-----------------------------------------------------------------------------------------\n",
            "Contenu extrait de l'image tables_extracted/table_page63_2.jpg :\n",
            "\n",
            "                                                      wai         Normes \n",
            "En millions deuros                        Rormes   ne       francgaises Hors Normes frangaises \n",
            "                                                                PartnerRe \n",
            "Actifs en representation de contrats en unit6s de \n",
            "aa                                                  6 104           6 104            6 104 \n",
            "\n",
            "-----------------------------------------------------------------------------------------\n",
            "Contenu extrait de l'image tables_extracted/table_page64_1.jpg :\n",
            "\n",
            "     as                                          Normes Solvabilit    Normes frangaises         Normes \n",
            "En millions deuros                                                                                one \n",
            "                                                                Il      Hors PartnerRe      frangaises \n",
            " Provisions techniques non-vie. nettes des \n",
            " montants recouvrables au titre des contrats de            15 483              24 507            37 062 \n",
            " reassurance \n",
            "    Dont meilleure estimation non-vie                      14 208 \n",
            "    Dont marge de risque non-vie                             1275 \n",
            " Provisions techniques vie hors Unites de \n",
            "Compte.  nettes des montants recouvrables au               47 539              54 952            57 504 \n",
            "titre des contrats de rassurance \n",
            "    Dont provisions techniques calculges comme               - 335 \n",
            "    un tout \n",
            "    Dont meilleure estimation vie                          46 973 \n",
            "    Dont marge de risque vie                                  901 \n",
            " Provisions techniques des Unites de Compte \n",
            " nettes des montants recouvrables au titre des              5 653               6115              6 115 \n",
            "contrats de r6assurance \n",
            "    Dont meilleure estimation UC                            5 401 \n",
            "    Dont marge de risque UC                                   252 \n",
            "\n",
            "-----------------------------------------------------------------------------------------\n",
            "Contenu extrait de l'image tables_extracted/table_page64_2.jpg :\n",
            "\n",
            "Provisions techniques des Unites de Compte \n",
            "nettes des montants recouvrables au titre des              5 653              6115             6115 \n",
            "contrats de rassurance \n",
            "   Dont meilleure estimation UC                            5 401 \n",
            "   Dont marae de risque UC                                  9572 \n",
            "\n",
            "-----------------------------------------------------------------------------------------\n",
            "Contenu extrait de l'image tables_extracted/table_page66_1.jpg :\n",
            "\n",
            "En millions deuros                               Avec VA       Sans VA       Impact \n",
            "Provisions techniques                             71 582        71 865        283 \n",
            "Fonds propres                                     28 143        27 935        -208 \n",
            "SCR                                               12 464        12 538         74 \n",
            "Ratio de couverture du SCR                        296 WG        292%         2nts \n",
            "\n",
            "-----------------------------------------------------------------------------------------\n",
            "Contenu extrait de l'image tables_extracted/table_page71_1.jpg :\n",
            "\n",
            "                                                                       fine            Normes \n",
            "       si                                               Normes  Solvabilite          :                           : \n",
            " En  millions deuros                                                      i    francaises Hors    Normes  frangaises \n",
            "                                                                                    PartnerRe \n",
            " NAnAte  dac  rAacciiraiire                                            Oon7                on7                   RD \n",
            "\n",
            "-----------------------------------------------------------------------------------------\n",
            "Contenu extrait de l'image tables_extracted/table_page71_2.jpg :\n",
            "\n",
            "                                                Normes Solvabilits        pees \n",
            " En millions deuros                                            i   francaises Hors  Normes frangaises \n",
            "                                                                        PartnerRe \n",
            " Provisions pour retraite                                    497              530                601 \n",
            "\n",
            "-----------------------------------------------------------------------------------------\n",
            "Contenu extrait de l'image tables_extracted/table_page71_3.jpg :\n",
            "\n",
            "En millions deuros                         Pole        s     francaises Hors Normes francaises \n",
            "                                                                  PartnerRe \n",
            "Provisions autres que les provisions techniques        130             188              188 \n",
            "\n",
            "-----------------------------------------------------------------------------------------\n",
            "Contenu extrait de l'image tables_extracted/table_page72_1.jpg :\n",
            "\n",
            "                                         Normes Solvabilite      ee \n",
            "En millions deuros                                     i   francaises Hors Normes frangaises \n",
            "                                                             Ratner \n",
            "Autres passifs                                     2564           2668             5 664 \n",
            "\n",
            "-----------------------------------------------------------------------------------------\n",
            "Contenu extrait de l'image tables_extracted/table_page74_1.jpg :\n",
            "\n",
            "      Hide    uence Oilelilissear fines          Fonds propres des           Total des fonds \n",
            "            P          ee                   t/  entits integrees par         propres ligibles \n",
            "                                                     methode  2                   Groupe \n",
            "                      Capital de solvabilit \n",
            "    Capital de             requis des \n",
            " solvabilite requis 4    participations ne          :           a \n",
            "     diversifie          donnant pasle     j.   Capital de solvabilit   -  Capital de solvabilite \n",
            "                            contrdle          :  requis des entites          requis du Groupe \n",
            "                    .                         integr6es par methode 2 \n",
            "Capital de solvabilit6 requis base consolid6e \n",
            "\n",
            "-----------------------------------------------------------------------------------------\n",
            "Contenu extrait de l'image tables_extracted/table_page75_1.jpg :\n",
            "\n",
            "     i                                                       Niveaul-     Niveaui-  ..           : \n",
            "En millions deuros                                Total    nian factreint   restraint Niveau 2  Niveau 3 \n",
            "Fonds propres de base                             18 707         18 674           33         -          . \n",
            "Fonds propres des entites integrees selon la \n",
            "ah  methode                                        9 436          8727           188       522 \n",
            "Fonds propres auxiliaires                               -             -            -         - \n",
            "Total des fonds propres disponibles pour \n",
            "couvrir le capital de solvabilit requis du        28 143         27 401          220       522 \n",
            "Groupe  au 31.12.2022 \n",
            "- Fonds propres totaux eligibles pour le calcul   28 143         27 401          220       599 \n",
            "  du capital de solvabilit requis du Groupe \n",
            "- Fonds propres totaux 6ligibles pour le calcul \n",
            "  du minimum  de capital requis sur base          18 707         18 674          33          .          : \n",
            "  consolide \n",
            "Total des fonds propres disponibles pour \n",
            "couvrir le capital de solvabilit requis du        27 950         27 926           16         8          : \n",
            "Groupe  au 31.12.2021 \n",
            "- Fonds propres totaux ligibles pour le calcul \n",
            "  du capital de solvabilit6 requis du Groupe         0           ane              16         6          . \n",
            "- Fonds propres totaux ligibles pour le calcul \n",
            "  du minimum  de capital requis sur base          27 871         27 847           16         8          : \n",
            "  consolidee \n",
            "\n",
            "-----------------------------------------------------------------------------------------\n",
            "Contenu extrait de l'image tables_extracted/table_page76_1.jpg :\n",
            "\n",
            "En millions deuros                                              2022                  2021 \n",
            "Capital social ou fonds 6quivalents                            1139                   1136 \n",
            "Primes                                                             6                      6 \n",
            "Reserves                                                      15 518                 15/251 \n",
            "Resultat de lexercice                                            896                    838 \n",
            "Int6rts minoritaires                                             228                    105 \n",
            "Capitaux  propres statutaires                                 17 788                 17 336 \n",
            "Revaluation  des actifs financiers                               419                  9548 \n",
            "Revaluation  des provisions techniques                        10 412                  2 858 \n",
            "Annulation des actifs incorporels et goodwill                   -402                   -220 \n",
            "Autres                                                            -11                  -214 \n",
            "Excedents  des actifs sur les passifs                         28 206                 29 308 \n",
            "Passifs subordonnes et actions de preference                     857                    152 \n",
            "Dividendes distributions et charges previsibles                    -2                    -8 \n",
            "Elements non disponibles                                        -918                 -1 502 \n",
            "Fonds  propres 6ligibles                                      28 143                 27 950 \n",
            "\n",
            "-----------------------------------------------------------------------------------------\n",
            "Contenu extrait de l'image tables_extracted/table_page78_1.jpg :\n",
            "\n",
            "                    Risque de credit     Risque de           Risque de           Risque de        Risque li aux \n",
            "Risque de marche /  ou de defaut de  souscription en vie  souscription en sant souscription en    immobilisations \n",
            "                     la contrepartie                                              non-vie          incorporelles \n",
            "      8185               566               5 616                834                4452                 0 \n",
            "\n",
            "-----------------------------------------------------------------------------------------\n",
            "Contenu extrait de l'image tables_extracted/table_page80_1.jpg :\n",
            "\n",
            "E6. Autres informations \n",
            "\n",
            "-----------------------------------------------------------------------------------------\n",
            "Contenu extrait de l'image tables_extracted/table_page83_1.jpg :\n",
            "\n",
            "      Autres investissements                                                                                    a \n",
            " Actifs en representation de contrats en unites de compte et indexes                                    6 103 541 \n",
            " Prets et prets hypothecaires                                                                             647 338 \n",
            "      Avances sur police                                                                                  194 719 \n",
            "      Prts et prts hypothecaires aux particuliers                                                           3 867 \n",
            "      Autres prets et prets hypothecaires                                                                 448 752 \n",
            " Montants recouvrables au titre des contrats de r6assurance                                             2 906 580 \n",
            "      Non-vie et sante similaire a la non-vie                                                           2 265 598 \n",
            "           Non-vie hors sante                                                                           2 035 687 \n",
            "          Sant  similaire a la non-vie                                                                    229 911 \n",
            "      Vie et sant similaire a la vie hors sante UC et indexs                                              640 982 \n",
            "           Sant similaire a la vie                                                                        259 998 \n",
            "          Vie hors sant. UC et indexes                                                                    380 984 \n",
            "      Vie UC et indexes                                                                                         - \n",
            " Depdts aupres des cedantes                                                                               116 746 \n",
            " Creances  nees doperations dassurance et montants a recevoir dintermediaires                           3.005 206 \n",
            " Creances  nes  doperations de reassurance                                                                446 507 \n",
            " Autres creances hors assurance                                                                         1058  496 \n",
            " Actions propres auto-detenues directement                                                                      - \n",
            " El6ments de fonds propres ou fonds initial appeles mais non encore paye/s                                      - \n",
            " Trsorerie et 6quivalents de tresorerie                                                                 1958  405 \n",
            " Autres actifs non mentionnes dans les postes ci-dessus                                                   529 938 \n",
            " Total de lactif                                                                                      106 109 973 \n",
            "\n",
            "-----------------------------------------------------------------------------------------\n",
            "Contenu extrait de l'image tables_extracted/table_page84_1.jpg :\n",
            "\n",
            "ar                                                                                   pide \n",
            " Passifs \n",
            " Provisions techniques non-vie                                                               17 748 595 \n",
            "     Provisions techniques non-vie hors sante                                                16 359 552 \n",
            "      Provisions techniques calcul6es comme un tout                                                  - \n",
            "          Meilleure estimation                                                               15 162 681 \n",
            "          Marge de risque                                                                     1196 871 \n",
            "     Provisions techniques sante similaire a la non-vie                                       1 389 043 \n",
            "          Provisions techniques calcul6es comme un tout                                              - \n",
            "          Meilleure estimation                                                                1310 573 \n",
            "          Marge de risque                                                                       78 470 \n",
            " Provisions techniques vie hors UC et indexes                                                48 180 212 \n",
            "     Provisions techniques sante similaire a la vie                                            358 846 \n",
            "          Provisions techniques calcul6es comme un tout                                          -7 551 \n",
            "          Meilleure estimation                                                                 363 070 \n",
            "          Marge de risque                                                                        3327 \n",
            "     Provisions techniques vie hors sante. UC et indexes                                     47 821 366 \n",
            "          Provisions techniques calcul6es comme un tout                                        -327 305 \n",
            "          Meilleure estimation                                                               47 251 196 \n",
            "          Marge de risque                                                                      897 475 \n",
            " Provisions techniques UC et indexes                                                          5658 375 \n",
            "          Provisions techniques calcul6es comme un tout                                              - \n",
            "          Meilleure estimation                                                                5 401 119 \n",
            "          Marge de risque                                                                      252 256 \n",
            " Autres provisions techniques                                                                        - \n",
            " Passifs ventuels                                                                                    - \n",
            " Provisions autres que les provisions techniques                                               130 418 \n",
            " Provisions pour retraite                                                                      497 037 \n",
            " Dpots  des reassureurs                                                                        256 968 \n",
            " Passifs dimpots differes                                                                     1723447 \n",
            " Produits derives                                                                                    - \n",
            " Dettes envers des tablissements de credit                                                     398 503 \n",
            " Dettes financieres autres que celles envers les 6tablissements de credit                      104 732 \n",
            " Dettes nees doperations dassurance et montants dus aux intermediaires                         930 282 \n",
            " Dettes nees doperations de reassurance                                                        156 850 \n",
            " Autres dettes hors assurance                                                                 1618 527 \n",
            " Passifs subordonnes                                                                           149 881 \n",
            "     Passifs subordonnes non inclus dans les fonds propres de base                               1711 \n",
            "     Passifs subordonnes inclus dans les fonds propres de base                                 148 170 \n",
            " Autres dettes non mentionnes dans les postes ci-dessus                                        355 438 \n",
            " Total du passif                                                                             77 903 928 \n",
            "\n",
            "-----------------------------------------------------------------------------------------\n",
            "Contenu extrait de l'image tables_extracted/table_page85_1.jpg :\n",
            "\n",
            "                                     Ligne dactivite pour: engagements dassurance et de reassurance non-vie assurance directe et reassurance proportionnelle acceptee \n",
            "                                                                                                                 necinaniee    Assurance \n",
            "                                Assurance des   Assurance de      Assurance    Assurance de Autre assurance      maritime.      incendie et  Assurance de Assurance cred \n",
            "En milliers deuros              frais  medi      protection du dindemnisation   responsabilite des vehicules a    Me                autres   responsabilite \n",
            "                                 rais medicaux                         i       ey                               arienne et                   ae   uae          f \n",
            "                                                      revenu   des travailleurs civile automobile   moteur        transport dommages  aux   civile g6nerale cautionnemer \n",
            "                                                                                                                                     biens \n",
            " Primes mises \n",
            "  Brut - Assurance directe         1720 744         872 670              -       1670 743       2 601 618         96 429       3 230 725      1 609 030          6579 \n",
            "  Brut - Reassurance \n",
            " proportionnelle acceptee           170 892          12 002         39 796         69177            6191         278 224         574 290        899 771        251 524 \n",
            "  Brut - Reassurance non \n",
            " proportionnelle acceptee \n",
            "  Part des reassureurs              195 720          89 828          1401         129 828          79 594         71 752         514 913        110 157         33 798 \n",
            " Net                               1695 916         794 844         38 395       1610 092       2 528 215        302 901       3 290 102      2 398 644        224 305 \n",
            " Primes acquises \n",
            "  Brut - Assurance directe         1708 426         871 393              -       1681 891       2 655 167         97 470       3 220 462      1597  997          6 624 \n",
            "  Se    ee                          170 029          13 500         39 409         54 025           8 399        282 324         685 131        876 758        238 929 \n",
            " proportionnelle acceptee \n",
            "  Brut - Reassurance non \n",
            " proportionnelle acceptee \n",
            "  Part des reassureurs              195 819          89 584          1061         129 733          79 615         89 428         562 086        101 694         31 544 \n",
            " Net                               1 682 636        795 309         38 348       1606 183       2 583 951        290 366       3 343 507      2 373 061        214 009 \n",
            " Charge  des sinistres \n",
            "  Brut - Assurance directe         1343 016         304 299              -       1314 194       2 101 646         62 066       2 806 898      1 164 516          1685 \n",
            "  Brut - Reassurance \n",
            " proportionnelle acceptge           149 120           8 031         23 167         56 947           5 595        202 674         517 823        475 726          2.080 \n",
            "  Brut - Reassurance non \n",
            " proportionnelle acceptee \n",
            "  Part des reassureurs              192 613          48 547            663         82 340         146 748        120 668         675 628         99 941          6 538 \n",
            " Net                               1 299 523        263 783         22 504       1288 801       1960 493         144 072       2 649 093      1540  301          -2 773 \n",
            " Variation des autres provisions techniques \n",
            "  Brut - Assurance directe             1219           6 106              -         -21 757         34 426            410         129 598         -3 190               - \n",
            "  Brut  Reassurance                      u            316               85             59              9             559           7591          6518               9 \n",
            " proportionnelle acceptee \n",
            "  Brut - Reassurance non \n",
            " proportionnelle acceptee \n",
            "  Part des reassureurs                  529           1256               -               -              -               :            98               -               - \n",
            " Net                                    701           5 166            -85         -21 816         34 417            969         137 091         -9 708             9 \n",
            " Dpenses   engagees                 299 536         195 957          7 242        430 733         782 928         51 286         999 732        607 542         45 470 \n",
            "\n",
            "-----------------------------------------------------------------------------------------\n",
            "Contenu extrait de l'image tables_extracted/table_page86_1.jpg :\n",
            "\n",
            "                                       Ligne dactivite pour: engagements dassurance et de                   A        ae      : \n",
            "                                            rassurance  non-vie assurance directe et              -        aT     la    a             : \n",
            "                                               A                :             A                  rassurance  non proportionnelle acceptee \n",
            "En milliers deuros                            reassurance proportionnelle acceptee                                                                        Total \n",
            "                                           Assurance de     Assistance  Pertes pecuniaires     Sante      Accidents Assurance maritime    Biens \n",
            "                                       protection juridique                     diverses                            arienne et transport \n",
            "  Primes mises \n",
            "  Brut - Assurance directe                     651 736       530 882           386 299                                                                      13 377 455 \n",
            " Brut - Reassurance proportionnelle             11.130        13720                  1                                                                       2 326 718 \n",
            "  acceptee \n",
            "  Brut - Reassurance non proportionnelle \n",
            "  acceptee                                                                                  138 701       115 779              9983    349325                  613 788 \n",
            "  Part des rassureurs                             512         59 995           119 963       64 692         3 839              1211     109577               1586  780 \n",
            " Net                                           662 354       484 607           266 337       74 009       111 940              8772    239748               14 731 181 \n",
            "  Primes acquises \n",
            "  Brut - Assurance directe                     649 531       528 983           401 751                                                                      13 419 695 \n",
            " Brut - Reassurance proportionnelle             11.130        13720                  1                                                                       2 303 355 \n",
            "  acceptee \n",
            "  SS     eae  Ee       PIRATE                                                               148 536       198 605             26000    808 202               1181  343 \n",
            "  acceptee \n",
            "  Part des rassureurs                             516         59 995           120 700       65 481         6 586              5916     278505               1818  263 \n",
            " Net                                           660 145       482 708           281 052       83 055       192 019             20084     529697              15 176 130 \n",
            "  Charge des sinistres \n",
            "  Brut - Assurance directe                     170 886       235 447           155 641                                                                       9 660 294 \n",
            " Brut - Reassurance proportionnelle              6 388         7271                  .                                                                       1454  822 \n",
            "  acceptee \n",
            " Brut - Reassurance non proportionnelle                                                      84.224        86 503             24093     782 787                977 607 \n",
            "  acceptee \n",
            "  Part des reassureurs                             -58        24 175            69 198       41794          4 086             -20637    257100               1749  344 \n",
            "  Net                                          177 332       218 543            86 443       42 430        82 417             44730     525 687             10 343 379 \n",
            "  Variation des autres provisions techniques \n",
            "  Brut - Assurance directe                         92            103            10 810                                                                         157 817 \n",
            " Brut   Reassurance proportionnelle                  .             .                 .                                                                           1797 \n",
            "  acceptee \n",
            "  Brut - Reassurance non proportionnelle                                                       2             r                   f       r                      : \n",
            "  acceptee                                                                                      308           283                 84      2581                   3 256 \n",
            "  Part des reassureurs                               -             :                 :            :              :                  :         :                  1883 \n",
            "  Net                                              92            103            10 810         -308          -283                -84     -2 581                154 475 \n",
            "  Denenses enqangd6es                          9A2 726       922710            126 649        5992         10 G22              1 ARO    A  FRA               4158  221 \n",
            "\n",
            "-----------------------------------------------------------------------------------------\n",
            "Contenu extrait de l'image tables_extracted/table_page87_1.jpg :\n",
            "\n",
            "                                                        A         Tes                             .                          Orel iss al bomeie \n",
            "                                                                                                              Rentes \n",
            "                                                                                               oe         dassurance \n",
            "    as                                   Assurance     Se         demons  7         farldee  assurance          ee    Reassurance  Reassurance        ie \n",
            "                                            maladie  participation   unites de  ae             vlad      engagements      maladie           vie \n",
            "                                                    aux benefices     compte                engagements   dassurance \n",
            "                                                                                             dassurance pie   hate \n",
            "                                                                                                  Sante  a \n",
            "                                                                                                               sante \n",
            "   Primes mises \n",
            "   Brut                                         -     2 556 613     915 252      162 759             -            -       71 Si.    1995 397           5 701 532 \n",
            "   Part des reassureurs                         -       40 744            -        5 871             -            -         142        13 378            60 135 \n",
            "  Net                                           -     2515 869      915 252      156 888             -            -       71 369    1982 019           5 641 397 \n",
            "   Primes acquises \n",
            "  Brut                                          -     2 556 613     915 252      162 759             -            -       71511     1995 397           5 701. 532 \n",
            "   Part des reassureurs                         -       40 744            -        5 871             -            -         142        13 378            60 135 \n",
            "  Net                                           -     2515 869      915 252      156 888             -            -       71 369    1982 019           5 641 397 \n",
            "   Charge des sinistres \n",
            "   Brut                                         -     3 729 583     339 321       49 190       -44 189       24 633       51735     1993  111          6 143 384 \n",
            "   Part des reassureurs                         -       43 883            -        2 042             -        4815          126         7 092            57 958 \n",
            "  Net                                           -     3 685 700     339 321       47 148       -44 189       19 818       51 609    1986 019           6 085 426 \n",
            " Variation des autres provisions techniques \n",
            "   Brut                                         -     1455 497      509 278        2914        -22 431      186 182       11 495      156 026          2 298 961 \n",
            "   Part des reassureurs                         -       11 345            -         -487             -            -          44        25 293            36 162 \n",
            "   Net                                          -     1 444 152     509 278        3 401       -22 431      186 182       11 484      130 733          2 262 799 \n",
            "   Depenses engagges                            -      266 719       91 841       42 887             -        2139         9 342       98 081           511 009 \n",
            "   Autres depenses                                                                                                                                       56 735 \n",
            "\n",
            "-----------------------------------------------------------------------------------------\n",
            "Contenu extrait de l'image tables_extracted/table_page88_1.jpg :\n",
            "\n",
            "                                                                                                                                                                        Total 5 \n",
            "En milliers deuros                                                                                                                                                      CaS \n",
            "                                                                                                                                                                       Coates \n",
            "                                                                                     US                 GB                   :                 :                  : \n",
            " Primes  mises \n",
            "  Brut - Assurance directe                               11 678 575           382  914          1038 739                   -                 -                  -       13 100 228 \n",
            "  Brut - Reassurance proportionnelle acceptee               286 192          1064  325           251 333                   -                 -                  -        1601  850 \n",
            "  Brut - Reassurance non proportionnelle acceptee            14 720           341  391            61 246                   -                 -                  -          417 357 \n",
            "  Part des reassureurs                                      815 459            255 147           357 252                   -                 -                  -        1427  859 \n",
            " Net                                                     11 164 028          1533  482           994 066                   -                 -                  -       13 691 576 \n",
            " Primes  acquises \n",
            "  Brut - Assurance directe                               11 642 815           396  086          1038 462                   s                 s                  s       13 077 363 \n",
            "  Brut - Reassurance proportionnelle acceptee               276 943          1093  364           255 300                   7                 -                  7        1625  607 \n",
            "  Brut - Reassurance non proportionnelle acceptee            37 203           625  061           155 961                   :                 :                  :          818 225 \n",
            "  Part des reassureurs                                      831 437           350  647           397 763                   5                 5                  5        1579  848 \n",
            " Net                                                     11125  524          1763  863          1051 960                   -                 :                  3       13 941 347 \n",
            " Charge  des sinistres \n",
            "  Brut - Assurance directe                                8 604 174           211  212           701 000                   -                 -                  -        9 516 387 \n",
            "  Brut - Reassurance proportionnelle acceptee               157 204           612  221           141 003                   -                 3                  -          910 427 \n",
            "  Brut - Reassurance non proportionnelle acceptee           100 247            524 207           161 830                                                                   786 284 \n",
            "  Part des r6assureurs                                      993 447           268  804           303 617                   -                 -                  -        1565  868 \n",
            " Net                                                      7 868 177          1078  836           700 216                   :                 :                  :        9 647 230 \n",
            " Variation des autres provisions techniques \n",
            "  Brut - Assurance directe                                  157 906                   i               17                   3                 3                  3          157 889 \n",
            "  Brut - Reassurance proportionnelle acceptee                10 490             -2 187               -502                  2                 2                  2            7801 \n",
            "  Brut - Reassurance non proportionnelle acceptee              -403             -1 873               -549                  -                 -                  -           -2 825 \n",
            "  Part des reassureurs                                        1883                   -                  -                  -                 -                  -            1883 \n",
            " Net                                                        166 110             -4 060             -1 068                  -                 -                  -          160 982 \n",
            " Dpenses    engagees                                      3 130 093           298  286           403 785                   -                 -                  -        3 832 164 \n",
            " Autres  dpenses                                                                                                                                                           373 180 \n",
            " Total des depenses                                                                                                                                                      4205  344 \n",
            "\n",
            "-----------------------------------------------------------------------------------------\n",
            "Contenu extrait de l'image tables_extracted/table_page89_1.jpg :\n",
            "\n",
            "                                                                                                                                                                Total 5 \n",
            "                                                    Pays dorigine         5 principaux pays par montant de primes brutes 6mises - engagements en vie        ae     rei \n",
            "En milliers deuros                                                                                                                                             pele \n",
            "                                                                                  IR                IT              GB                  -                 - \n",
            "  Primes mises \n",
            " Brut                                                   3357 147         1255  657           412 294          272 971                  -                -        5 298 069 \n",
            "  Part des reassureurs                                    46 454               931             1930              2 067                 -                -           51 382 \n",
            "  Net                                                   3 310 693        1254  727           410 364          270 904                  -                -        5 246 688 \n",
            "  Primes acquises \n",
            "  Brut                                                  3 357 147        1255  657           412 294          272 971                  -                -        5 298 069 \n",
            "  Part des reassureurs                                    46 511               963             1930              2133                  :                -           51 537 \n",
            "  Net                                                   3 310 637        1254  694           410 364          270 838                  -                -        5 246 533 \n",
            "  Charge des sinistres \n",
            " Brut                                                   3 696 115        1369  225           467 139          242 309                  -                -        5 774 788 \n",
            "  Part des reassureurs                                    45 525              545                723             6 149                 -                            52 942 \n",
            "  Net                                                   3 650 590        1368  680           466 415          236 160                  -                -        5 721 845 \n",
            "  Variation des autres provisions techniques \n",
            "  Brut                                                  1 896 630           17 784           225 966            52 901                 -                         2 193 281 \n",
            "  Part des rassureurs                                     11 851                47              -964              116                  -                -           11 050 \n",
            "  Net                                                   1 884 779           17 737           226 931            52 786                 :                :        2 182 233 \n",
            "  Dpenses   engagees                                     394 112            30 841            34 452            15 944                 -                -         475 349 \n",
            "  Autres dpenses                                                                                                                                                   30 449 \n",
            "  Total des dpenses                                                                                                                                               505 798 \n",
            "\n",
            "-----------------------------------------------------------------------------------------\n",
            "Contenu extrait de l'image tables_extracted/table_page90_1.jpg :\n",
            "\n",
            "                                        Montant avec mesures \n",
            "                                       relatives aux garanties de iit    es    bed         Lilet  a nati teed      Impact dune correction   Tin ee Co eM Ue eS CTL \n",
            "EL ers  Cuts                            eye RC    Ra UC Cy        CHE   MICS SIN ICS        CEUELRINES STIG        our volatilite fixe 4 zero galisateur fix a zero \n",
            "                                           9   CCAIR             provisions techniques        taux dinteret       us                         t \n",
            " Provisions techniques                             71 582 182                       -                          -                 282 557                        - \n",
            " Fonds propres de base                             18 706 627                       -                          -                -208 313                        - \n",
            " oa    propres ligibles pour couvrir le            28 142 995                       .                          .                208  313                        . \n",
            " Capital de solvabilit6 requis                     12 463 687                       -                          -                  74 496                        - \n",
            "\n",
            "-----------------------------------------------------------------------------------------\n",
            "Contenu extrait de l'image tables_extracted/table_page91_1.jpg :\n",
            "\n",
            "  sinner  ieee         bneeenceneeentcediaeceldatiehieine teen atabhcetnens ee htenel anaes \n",
            " En milliers deuros                                                                                                    a           es       t    ee            Niveau 2      Niveau \n",
            "   Fonds  propres de base  avant deduction pour participations dans dautres  secteurs financiers \n",
            "       Capital en actions ordinaires brut des actions propres                                                           20 590       20 590                            zs \n",
            "       Capital en actions ordinaires appele non vers non disponible au niveau du groupe                                      -             -                           - \n",
            "       Compte  de primes demission li au capital en actions ordinaires                                                   6 358         6 358                           - \n",
            "       omarion     Sonera        membres  ou &lement de fonds propres de base quivalent pour les mutuelles et les    1118 845      1118 845                            . \n",
            "       Comptes  mutualistes subordonnes                                                                                      -                           -             - \n",
            "       Comptes  mutualistes subordonnes non disponibles au niveau du groupe                                                  -                           -             - \n",
            "       Fonds excdentaires                                                                                            2 045 961     2 045 961 \n",
            "       Fonds excedentaires non disponibles au niveau du groupe                                                        522 130       522 130 \n",
            "      Actions de preference                                                                                                  -                           -             - \n",
            "      Actions de preference non disponibles au niveau du groupe                                                              -                           -             - \n",
            "       Compte  de primes demission li6 aux actions de preference                                                             -                           -             - \n",
            "       Comptes  de primes demission lis aux actions de preference non disponibles au niveau du groupe                        -                           -             - \n",
            "       Rserve  de reconciliation                                                                                   24671845      24671845 \n",
            "       Passifs subordonns                                                                                             148 170                     148 170              - \n",
            "       Passifs subordonnes non disponibles au niveau du groupe                                                        115 341                     115 341              - \n",
            "       Montant gal a la valeur des actifs dimpdts differes nets                                                              - \n",
            "       Montant gal a la valeur des actifs dimpdts differes nets non disponibles au niveau du groupe                          - \n",
            "      Autres lments   approuves  par lautorit de contrdle en tant que fonds propres de base non specifis supra               -             -             -             - \n",
            "       Fonds propres non disponibles relatifs a dautres lements de fonds propres approuves par une autorite de contrdle      -             -             -             - \n",
            "       Interts minoritaires non declares dans le cadre dun autre lement de fonds propres                              140 383       140 383              -             - \n",
            "       Interts minoritaires non disponibles au niveau du groupe                                                         81 008       81 008              -             - \n",
            "   Fonds  propres issus des 6tats financiers qui ne devraient pas 6tre inclus dans la rserve de rconciliation et qui ne respectent pas les criteres de fonds propres de Solvabilite II \n",
            "       Fonds propres issus des tats financiers qui ne devraient pas 6tre inclus dans la rserve de rconciliation et qui ne    . \n",
            "       respectent pas les criteres de fonds propres de Solvabilite II \n",
            "   Deductions \n",
            "       Deductions pour participations dans dautres entreprises financieres y compris des entreprises non reglementees        .             -             -             - \n",
            "       exercant des activites financires \n",
            "      dont deduites conformement a larticle 228 de la directive 2009/138/CE                                                  -             -             -             - \n",
            "       Deductions pour les participations lorsque les informations sont indisponibles article 229                            -             -             -             - \n",
            "       wa        pour les participations incluses par dduction et agregation lorsquune combinaison de methodes est   8.727 046    8 727 046              .             . \n",
            "      Total des 6lements de fonds propres non disponibles                                                             718 479       603 138       115 341              - \n",
            "   Total deductions                                                                                                  9445525      9330184         115 341              - \n",
            "\n",
            "-----------------------------------------------------------------------------------------\n",
            "Contenu extrait de l'image tables_extracted/table_page91_2.jpg :\n",
            "\n",
            "                         Niveaut-       Niveaul-     Niveau 2      Niveau 3 \n",
            "                        non restreint   restreint \n",
            "\n",
            "-----------------------------------------------------------------------------------------\n",
            "Contenu extrait de l'image tables_extracted/table_page93_1.jpg :\n",
            "\n",
            "I                                                 ESS \n",
            "Reserve de rconciliation \n",
            "  Excedent dactif sur passif                       28 206 045 \n",
            "  Actions propres detenues directement et indirectement - \n",
            "  Dividendes distributions et charges previsibles     2 186 \n",
            "  Autres lements de fonds propres de base           3 332 138 \n",
            "  Ajustement pour les lements de fonds propres restreints relatifs aux portefeuilles sous ajustement galisateur et - \n",
            "  aux fonds cantonnes \n",
            "  Autres fonds propres non disponibles               199 876 \n",
            "Reserve de rconciliation                           24 671 845 \n",
            "Bnfices attendus \n",
            " Benefices attendus inclus dans les primes futures EPIFP - activites vie 1004 838 \n",
            " Benefices attendus inclus dans les primes futures EPIFP - activites non-vie 2 103 947 \n",
            "Total b6nefices attendus inclus dans les primes futures EPIFP/ 3108 785 \n",
            "\n",
            "-----------------------------------------------------------------------------------------\n",
            "Contenu extrait de l'image tables_extracted/table_page95_1.jpg :\n",
            "\n",
            "Capital requis pour entreprises residuelles                                                                                       - \n",
            "SCR  global \n",
            "SCR  pour les entreprises incluses par deduction et agregation                                                            4 148 160 \n",
            "Capital de solvabilit requis                                                                                             12 463 688 \n",
            "\n",
            "-----------------------------------------------------------------------------------------\n",
            "Contenu extrait de l'image tables_extracted/table_page96_1.jpg :\n",
            "\n",
            "                                                                                                                                                                                          ee       a   fl       Calcul de \n",
            "                                                                                                                                                 Criteres dinfluence                       Lesap eee eaneS    solvabilite du \n",
            "                                                                                                                                                                                          eect    me Cele 31 \n",
            "                                                                                                                                                                                                                 groupe \n",
            "                                                                                                     or                                  cg                                    Part                                   os \n",
            "   Coll Comite   OR  TaN 7 Sk      an         Nom  juridique de        es        Pern  EP            mutuelle/  Autorit6 de           % utilis                              proportionnel                  Methode  utlisee et \n",
            "        Cer Ee ast                   u           Ventreprise              P            doer           non        Te                    POUT      % des                  :     le utilis6e        Date dela   en cas dutiisation \n",
            "                                                                     ed                             mutuelle               % de part Vetablissem Ait. qq  Autres    Degre     ourle calcul OUI/   decision si de la premiere \n",
            "                                                                                                                           de capital ent des     Vote.   ctiteres diinfluence POU TICul  NON    article 214    methode \n",
            "                                                                                                                                     comptes                                   Ivabilite d       sapplique     traitement de \n",
            "                                                                                                                                    consolides                               soWanite ou                        lentreprise \n",
            "                                                                                                                                                                               groupe \n",
            "                                                                                     Societe de groupe \n",
            "       LEV/969500S20N1Z6K2G9130     FR                    COVEA         5         Gecsinance nticlls      1            .       0%         0%        0%                   *       0%         1           *                1 \n",
            "                                                    LE FINISTERE                   Socite dassurance \n",
            "       LEI969500L1X5V3VSW5QY20      FR               ASSLIBANCE         2                    rill         1       ACPR        100%      100%      100%        7         a        100%       1           e                a \n",
            "      LEV969500UHKXOMSXW6XB45       FR                 AM  - GMF        2           eee    Te             1       ACPR        100%      100%      100%        7         1        100%       1           .                1 \n",
            "       LEV969500NEO34ESOGESL98      FR        MAAF ASSURANCES           2          socked speed           1       ACPR        100%      100%      100%        :         1        100%       1           :                1 \n",
            "      LEVI969500Z1R4L7WDHYQK83      FR              MAAF  SANTE         GD                      ee        1       ACPR        100%      100%      100%        :         i        100%       1           3                1 \n",
            "       LEV/969500164L22NCXVML69     FR    MMAIARD  ASSURANCES           2          Sotlete dlessilfance:  1       ACPR        100%      100%      100%        -         1       100%        1           F                1 \n",
            "                                                    MUTUELLES                                mutuelle \n",
            "       LEVIgs9s005YoUBGKYS2I305     FR     MMAVIE  ASSURANCES           1          Societe:dlassurance    1       ACPR        100%      100%      100%        :         4        100%       1           :                1 \n",
            "                                                    MUTUELLES                                mutuelle \n",
            "                                                                               Institution de prevoyance \n",
            "       LEV969500BLSRLKAB9DL911      FR                   APGIS          4        regie par le code de la  1       ACPR        100%      100%      100%        :         1        100%       1           7                i \n",
            "                                                                                       scurite sociale \n",
            "                                                                              Mutuelle regie par le code \n",
            "      LEV/969500VF38RAY30QDM34.     FR                       SMI        4               as isinaniaite    1       ACPR        100%      100%      100%        i         i        100%       1           :                1 \n",
            "      LEV969500K59WABSGV1YD65       FR     COVEACOOPERATIONS            3            Societe anonyme      2       ACPR        100%      100%      100%        5         1        100%       1                            1 \n",
            "       LEV/9695007KZZ9MXB340B18     FR       Gave   PET   IOUS          2            Societe anonyme      2       ACPR        100%      100%      100%        i         dl       100%       1           i                4. \n",
            "       LEV/9695006C6417RO7A2710     FR       FIDELIA ASSISTANCE         2            Societe anonyme      2       ACPR        100%      100%      100%        .         1        100%       1                            1 \n",
            "       LEV/9695002VYS65VVOSE026     FR         GMF ASSURANCES           2            Societe anonyme      2       ACPR        100%      100%      100%        5         1        100%       1           F                1 \n",
            "        LEV/969500836XB9H31EDI98.   FR           LA SAUVEGARDE          2            Societe anonyme      2       ACPR        100%      100%      100%        2         1        100%       1           -                1 \n",
            "       LEI/969500FNVA31Z6AD3R42.    FR     MAAF ASSURANCES   SA         2            Societe anonyme      2       ACPR        100%      100%      100%        5         1        100%     aE            2                i \n",
            "       LEV969500HCG34K4D73SU76.-    FR                 MMA  IARD        2            Societe anonyme      2       ACPR        100%      100%      100%        5         1        100%      if           :                i. \n",
            "        LEV/969500MOBOIIJSROYR54    FR                BPCE  IARD        2            Socite anonyme       2       ACPR         50%      100%       50%        7         il       100%       1           P                4 \n",
            " SCILEI/969500S20N1Z6K2G9130/US                  CSE INSURANCE                 Foreign Law Undertaking \n",
            "                          goog   4  US                 COMPANY          2                   non EU        2         col       100%      100%      100%        Q         4        100%       1           Z                7 \n",
            "       LE/213800KNZR74A8ZG9Y47      GB    COVEA  INSURANCE  PLC         2         Compantes: fea          2       PRA         100%      100%      100%                  4        100%       1           5                1 \n",
            "      LE/9695002FVJCQHOFUZO35       FR                  GMF  VIE        1            Societe anonyme      2       ACPR        100%      100%      100%        5         1        100%      if           :                i \n",
            "    LEV969500WWWUSHC8DQX902-        FR                  MMA  VIE        1            Societe anonyme      2       ACPR        100%      100%      100%        7         1        100%       1           P                4 \n",
            "      LEV969500M2DOABBSCNPP84.      FR                 MAAF  VIE        1            Socite anonyme       2       ACPR        100%      100%      100%                  fl       100%     if            P                4 \n",
            "                                                                                            at                  Bermuda \n",
            "      LEI/7LLHQS68KCIGNZBR7918     BM              PartnerRe Ltd.       3         Companies me            2     Monetary      100%      100%      100%                  1      100%         1           :                7 \n",
            "                                                                                                                Authority \n",
            "       LEI/222100K3SEFNJ8K68185     LU               COVEA  LUX         3            Cncisteenonvine:     2        CAA        100%      100%      100%        s         1        100%       1           &                1 \n",
            "\n",
            "-----------------------------------------------------------------------------------------\n",
            "Contenu extrait de l'image tables_extracted/table_page97_1.jpg :\n",
            "\n",
            "                                                                                                                                                     Cece    MU   ley                           Lee le eGh tele      Retr \n",
            "                                                                                                                                                                                               contrdle de groupe      errtnes \n",
            "                                                                                                        Catgorie                              as                                    Part                            y      On \n",
            "     Code didentification et type de Pays        STM  Tete  Cems        ue          Forme  juridique     mutuelle/  Autorite de           % utilise                               proportionnel                  Methode utlisee et. \n",
            "          Cee    MMe    ee              y           Went sit                li            Juric            nel      etl                  co HOME      % des                  .     le utilis6e         Date dela  en cas diutilisation \n",
            "                                                                        rise                                tuell              %de  part etablissem            Autres     Degr                 OUI/     dcision si  de la premiere \n",
            "                                                                                                            OCS                      :               droitsde   *       e           pour le            ate              : \n",
            "                                                                                                                               de capital   entdes     vote    criteres diinfluence calcul de la NON  article 214     methode. \n",
            "                                                                                                                                         comptes                                        hd             sapplique    traitement de \n",
            "                                                                                                                                        consolides                                solvabilit du                      lentreprise \n",
            "                                                                                                                                                                                    groupe \n",
            "                                               MEDICAL  INSURANCE                    Companies limited by \n",
            "       LEN635400VSBBHQH9QWCUS5         IE                 COMPANY          2                      shares      2         CBI     100%        100%      100%                   1        100%       1            7                5 \n",
            "        LEV969500T2ER13UUWFNJ46.      FR            COVEA  FINANCE       10           Societe ee alge         2            -    100%        100%      100%         :         i        100%       1            5                1 \n",
            "                      SC/775675101    FR                   MIDEPP         10          Socks   ee aie          2            -    100%        100%      100%         E         1        100%       1            7                1 \n",
            "                      SC/732017884    FR                PRIFINANCE       10         Societe en nom collectif  2            2     62%        100%       62%         7         ii       100%       1            :                q \n",
            "                      $C/430137828    FR                ASSURLAND        10              Societe anonyme      2            -    100%        100%      100%         3         1        100%       Fi           7                1 \n",
            "  SC/LEI/969500S20N1Z6K2G9130/US                     GMF FINANCIAL                Foreign Law Undertaking \n",
            "                             2010     YS           SERVICES  CORP.         5                    non EU        2            -    200         100K      200%         -         A        Cy                      -                e \n",
            "   SC/LEI Sere   een eer       ee     cB             MMA HOLDINGS          5        Public limited company    2            -    100%        100%      100%         2         1        100%       1            2                1 \n",
            "        LEV969500XOXQ9HCXW25676       FR                  COPAREX        10           Societe pe  ae          2            -    100%        100%      100%         2         1        100%       891          2                1 \n",
            "                      SC/852816016    FR                   COVEAD        10                 Association       2            -    100%        100%      100%         7         1        100%       4            -                4 \n",
            "                      $C/482136439    FR             COVEA  INVEST        10          Sockets Pai             2            -    100%        100%      100%         a         1        100%       1            7                1 \n",
            "                                                SA IMMOBILIERE DES                     Socite par actions \n",
            "                      $C/333986719    FR                       Nhe       10                    simplifies     2            -    100%        100%      100%         a         1        100%       1            7                1 \n",
            "                      SC/397672551    FR         SCI FLECHE MIZOLA        10      Socite civile immobiligre   2            -    100%        100%      100%         2         1        100%       1            7                1 \n",
            "                      $C/338630288    FR         SCI BOISSY ROYALE        10      Socite civile immobiligre   2            -    100%        100%      100%         :         1        100%       1            7                1 \n",
            "         LEN/96950031PG31QTOQNS40     FR       SCI SECURITE PIERRE       10       Societe civile immobiligre  2            -    100%        100%      100%                   4        100%       1                             1 \n",
            "                      SC/391169109    FR                       ADC       10                 Association       2            -    100%        100%      100%         2         i        100%       1            s                1 \n",
            "                                                                                      Groupement dinteret \n",
            "                      SC/434969754    FR                   GIE AGSI      10                  econoriqud       2            -    100%        100%      100%         7         1        100%       4            -                1 \n",
            "                                                                                      Groupement dinteret \n",
            "                      $C/813742483    FR                  GIE CIBAIL      10                 Kcsrieiae        2            -    100%        100%      100%         :         1        100%       1            2                4 \n",
            "                                                                                      Groupement diinteret \n",
            "                      $C/495007734    FR          GIE COVEA AGORA         10                 Ssaitilgus       2            -    100%        100%      100%         :         1        100%       1            g                i \n",
            "                      $C/392735171    FR       GIE EURO GEST SANTE       10            ae           che       2            -    100%        100%      100%         :         1        100%       1            2                1 \n",
            "                      $C/389316290    FR              GIE EURODEM         10          Groupement dintete      2            -    100%        100%      100%         5         1        100%       1            3                1 \n",
            "                                                                                             economique \n",
            "                      $C/389272295    FR              GIE EUROPAC         10          Groupement dintese      2            -    100%        100%      100%         E         1        100%       1            7                1 \n",
            "                                                                                             economique \n",
            "                                               GIE EUROPEENNE    DE                   Groupement dinteret \n",
            "                      $C/381317833    FR                REGENT            10                 eccrine          2            -    100%        100%      100%         :         1        100%       1            7                1 \n",
            "                                                                                      Groupement dinteret \n",
            "                      $C/389272030    FR              GIE EUROPEX         10                 Eonar            2            -    100%        100%      100%         2         1        100%       1            7                1 \n",
            "                      SC/389272139    FR               GIE LOGISTIC      10           Groupement dinteret     2            -    100%        100%      100%                   i        100%       1            e                1 \n",
            "                                                                                             economique \n",
            "                      SC/383547767    FR                 GIE MMA SI      10           Groupee Te CINE         2            -    100%        100%      100%         s         1        100%       1            :                1 \n",
            "                                                                                             economique \n",
            "                                                                                      Groupement diinteret \n",
            "                      SC/389272386    FR                   GIE RCDI      10                  sconoalaue       2            -    100%        100%      100%                   i        100%       1            e                1 \n",
            "        LEV/969500J8D3DM3MGW6S20      FR                    CARMA          2             Societe anonyme      2       ACPR       50%         50%       50%         7         2         50%       1            -                3 \n",
            "         LEV969500AC98D2K66P4Y74.     FR                 CARMA  VIE        1             Socidte anonyme      2       ACPR       50%        50%       50%          :         2         50%       1            2                3 \n",
            "          LEV/969500VNJ1Q8IRED5J33    FR               PROTEC   BTP        2             Soci6te anonyme      2       ACPR       35%         35%       35%         Z         2         35%       1            P                3 \n",
            "\n",
            "-----------------------------------------------------------------------------------------\n",
            "Contenu extrait de l'image tables_extracted/table_page98_1.jpg :\n",
            "\n",
            "        GROUPE \n",
            "        DASSURANC \n",
            "JA      MUTUALISTE \n",
            "   m    ENGAGE \n",
            "\n",
            "-----------------------------------------------------------------------------------------\n"
          ]
        }
      ]
    }
  ]
}