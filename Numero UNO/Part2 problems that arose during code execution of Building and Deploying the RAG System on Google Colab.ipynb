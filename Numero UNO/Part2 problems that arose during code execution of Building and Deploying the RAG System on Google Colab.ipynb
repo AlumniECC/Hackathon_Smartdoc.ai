{
  "nbformat": 4,
  "nbformat_minor": 0,
  "metadata": {
    "colab": {
      "provenance": []
    },
    "kernelspec": {
      "name": "python3",
      "display_name": "Python 3"
    },
    "language_info": {
      "name": "python"
    }
  },
  "cells": [
    {
      "cell_type": "markdown",
      "source": [
        "# **problems that arose during code execution of Building and Deploying the RAG System on Google Colab**"
      ],
      "metadata": {
        "id": "nIq6eeEl-RLC"
      }
    },
    {
      "cell_type": "markdown",
      "source": [
        "During the execution of the vector store indexing with FAISS when you answer \"yes\" for using offline mode"
      ],
      "metadata": {
        "id": "Olonzw4W-ye9"
      }
    },
    {
      "cell_type": "code",
      "source": [
        "from langchain.vectorstores import FAISS\n",
        "\n",
        "def create_vector_store(embeddings, chunks):\n",
        "    vector_store = FAISS.from_texts(chunks, embedding=embeddings)\n",
        "    return vector_store"
      ],
      "metadata": {
        "id": "f0YghwCaAZjZ"
      },
      "execution_count": null,
      "outputs": []
    },
    {
      "cell_type": "markdown",
      "source": [
        "At first the requirements needs to be satisfied then you would have to upload a file from your computer. Of course you have the option to cancel the upload. Then comes the part where you have to type the CR document, here if you have already uploaded the document you type \"/content/\" + the naming of your doc. otherwise you can also copy the path of your document if you have it in your drive ( there is a part where you link the notebook to your drive in the code ).Then you ask your question about the content of the document while stating whether you'd use offline mode or not.\n",
        "Now the issue comes afterwards:"
      ],
      "metadata": {
        "id": "_rAOqUbKArQ0"
      }
    },
    {
      "cell_type": "markdown",
      "source": [
        "The error AttributeError: 'list' object has no attribute 'embed_documents' is occurring in the create_vector_store function when called within the chatbot_interface function. This is because, in offline mode, the create_offline_embeddings function returns a list of embeddings. However, FAISS.from_texts expects an embedding function as the embedding argument, not a list of embeddings. This function is supposed to take a single text and return its embedding.\n",
        "\n",
        "\n",
        "**Suggested Changes**"
      ],
      "metadata": {
        "id": "5ni7aGajDr1A"
      }
    },
    {
      "cell_type": "code",
      "source": [
        "\n",
        "from langchain.vectorstores import FAISS\n",
        "\n",
        "def create_vector_store(embeddings, chunks):\n",
        "  if isinstance( embdeddings, list):\n",
        "     #Check if embeddings is a list (offline mode)\n",
        "     vector_store= FAISS.from_embeddings(text_embeddings=zip(chunks, embeddings), embeddings=None)\n",
        "     # Pass chunks and embeddings together\n",
        "     # no need for an embeddings function\n",
        "  else: # Online mode ( embeddings is an OpenAIEmebddings object)\n",
        "       vector_store=FAISS.from_texts(chunks, embedding=embeddings)\n",
        "  return vector_store\n",
        ""
      ],
      "metadata": {
        "id": "dpfuR2IODsIZ"
      },
      "execution_count": null,
      "outputs": []
    },
    {
      "cell_type": "markdown",
      "source": [
        "then another error surges\n"
      ],
      "metadata": {
        "id": "W5m4fB9sERe2"
      }
    },
    {
      "cell_type": "code",
      "source": [
        "NameError: name 'embdeddings' is not defined"
      ],
      "metadata": {
        "id": "i3n3a5FqERzl"
      },
      "execution_count": null,
      "outputs": []
    },
    {
      "cell_type": "markdown",
      "source": [
        "The problem could be that even with the typo fixed, the isinstance condition might not be evaluating correctly, leading to unexpected code flow and potentially to a state where embeddings isn't actually assigned. This can happen if the return type of create_offline_embeddings and create_online_embeddings isn't what the isinstance check expects.\n",
        "\n",
        "Here's a more detailed breakdown:\n",
        "\n",
        "Return Type Mismatch: create_online_embeddings returns an OpenAIEmbeddings instance, which isn't a list. This means the if isinstance(embeddings, list) will evaluate to False when in online mode. This in itself isn't necessarily an error.\n",
        "FAISS.from_texts Failure: The issue might arise if FAISS.from_texts requires a different structure for the embedding argument than an OpenAIEmbeddings object. If it expects a list or numpy array but gets an OpenAIEmbeddings object, that could cause the code to fail in online mode, even without a visible error message in your traceback.\n",
        "OpenAIEmbeddings in Offline Mode: The create_offline_embeddings returns a list of embeddings, which is correct for offline mode. But if, somehow, create_online_embeddings is called in offline mode, then you'd get an OpenAIEmbeddings object passed to create_vector_store, causing it to enter the first branch of the if statement. That wouldn't match with the way offline mode is expected to work.\n",
        "\n",
        "**Suggested Changes**"
      ],
      "metadata": {
        "id": "G2Zf3ZUNG2Q4"
      }
    },
    {
      "cell_type": "code",
      "source": [
        "def create_vector_store(embeddings, chunks):\n",
        "  if isinstance( embdeddings, list):# Corrected typo: embeddings instead of embeddings\n",
        "     #Check if embeddings is a list (offline mode)\n",
        "     # In Offline mode, 'embeddings' is already a list of embeddings.\n",
        "     vector_store= FAISS.from_embeddings(text_embeddings=zip(chunks, embeddings), embeddings= None)\n",
        "  else: # Online mode ( embeddings is an OpenAIEmebddings object)\n",
        "      #Online mode: First, compute embdeddings from text chunks\n",
        "      embeddings_list= embeddings.embed_document(chunks) # call embed_document here\n",
        "      vector_store=FAISS.from_embeddings(text_embeddings=zip(chunks, embeddings_list), embedding=None)\n",
        "       # Pass embeddings to FAISS\n",
        "  return vector_store\n"
      ],
      "metadata": {
        "id": "S6l52DFBHDt5"
      },
      "execution_count": null,
      "outputs": []
    },
    {
      "cell_type": "markdown",
      "source": [
        "And yet the same type of error appears regardless of potential fixes"
      ],
      "metadata": {
        "id": "thqWcJplKi7Q"
      }
    },
    {
      "cell_type": "markdown",
      "source": [
        "During the execution of the code if you type \"no\" for using offline mode:"
      ],
      "metadata": {
        "id": "6eUcUsGAKpmW"
      }
    },
    {
      "cell_type": "code",
      "source": [
        "TypeError: Client.__init__() got an unexpected keyword argument 'proxies'"
      ],
      "metadata": {
        "id": "uQuYFBI8LWgz"
      },
      "execution_count": null,
      "outputs": []
    },
    {
      "cell_type": "markdown",
      "source": [
        "The error TypeError: Client.__init__() got an unexpected keyword argument 'proxies' is happening because the httpx library version you are using (likely 0.28.0 or later) no longer supports the proxies keyword argument in the Client initialization.\n",
        "\n",
        "The OpenAIEmbeddings class from langchain is likely initializing an OpenAI client under the hood, which in turn is trying to create an HTTP client (using httpx) with the proxies argument. This argument has been removed in newer versions of httpx, leading to the error.\n",
        "\n",
        "**Suggested Changes**\n",
        "\n",
        "Downgrade httpx: The issue is likely due to an incompatibility between the openai library and a recent version of httpx. By installing a compatible version (0.27.7 in this case), you're ensuring that the proxies keyword argument is still recognized.\n",
        "Restart the runtime: After installing the specific httpx version, you might need to restart your runtime to ensure that the changes are applied. You can do this in Google Colab by going to \"Runtime\" -> \"Restart runtime\"."
      ],
      "metadata": {
        "id": "bz946hUqLYCL"
      }
    },
    {
      "cell_type": "code",
      "source": [
        "!pip install httpx==0.27.7"
      ],
      "metadata": {
        "id": "yBjt5H0GLcib"
      },
      "execution_count": null,
      "outputs": []
    }
  ]
}