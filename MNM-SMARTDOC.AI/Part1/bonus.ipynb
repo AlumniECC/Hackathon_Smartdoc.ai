{
  "nbformat": 4,
  "nbformat_minor": 0,
  "metadata": {
    "colab": {
      "provenance": []
    },
    "kernelspec": {
      "name": "python3",
      "display_name": "Python 3"
    }
  },
  "cells": [
    {
      "cell_type": "markdown",
      "source": [
        "# 1. Installation"
      ],
      "metadata": {
        "collapsed": false,
        "id": "IDef8ze8RDsi"
      }
    },
    {
      "cell_type": "code",
      "source": [
        "import pandas as pd"
      ],
      "metadata": {
        "id": "TDeTC_3NS1AH"
      },
      "execution_count": 14,
      "outputs": []
    },
    {
      "cell_type": "code",
      "execution_count": 1,
      "outputs": [
        {
          "output_type": "stream",
          "name": "stdout",
          "text": [
            "Collecting ExtractTable\n",
            "  Downloading ExtractTable-2.4.0-py3-none-any.whl.metadata (6.9 kB)\n",
            "Requirement already satisfied: requests>=2.21 in /usr/local/lib/python3.10/dist-packages (from ExtractTable) (2.32.3)\n",
            "Requirement already satisfied: pandas>=0.24 in /usr/local/lib/python3.10/dist-packages (from ExtractTable) (2.2.2)\n",
            "Collecting PyPDF2>=1.26 (from ExtractTable)\n",
            "  Downloading pypdf2-3.0.1-py3-none-any.whl.metadata (6.8 kB)\n",
            "Requirement already satisfied: numpy>=1.22.4 in /usr/local/lib/python3.10/dist-packages (from pandas>=0.24->ExtractTable) (1.26.4)\n",
            "Requirement already satisfied: python-dateutil>=2.8.2 in /usr/local/lib/python3.10/dist-packages (from pandas>=0.24->ExtractTable) (2.8.2)\n",
            "Requirement already satisfied: pytz>=2020.1 in /usr/local/lib/python3.10/dist-packages (from pandas>=0.24->ExtractTable) (2024.2)\n",
            "Requirement already satisfied: tzdata>=2022.7 in /usr/local/lib/python3.10/dist-packages (from pandas>=0.24->ExtractTable) (2024.2)\n",
            "Requirement already satisfied: charset-normalizer<4,>=2 in /usr/local/lib/python3.10/dist-packages (from requests>=2.21->ExtractTable) (3.4.0)\n",
            "Requirement already satisfied: idna<4,>=2.5 in /usr/local/lib/python3.10/dist-packages (from requests>=2.21->ExtractTable) (3.10)\n",
            "Requirement already satisfied: urllib3<3,>=1.21.1 in /usr/local/lib/python3.10/dist-packages (from requests>=2.21->ExtractTable) (2.2.3)\n",
            "Requirement already satisfied: certifi>=2017.4.17 in /usr/local/lib/python3.10/dist-packages (from requests>=2.21->ExtractTable) (2024.8.30)\n",
            "Requirement already satisfied: six>=1.5 in /usr/local/lib/python3.10/dist-packages (from python-dateutil>=2.8.2->pandas>=0.24->ExtractTable) (1.17.0)\n",
            "Downloading ExtractTable-2.4.0-py3-none-any.whl (19 kB)\n",
            "Downloading pypdf2-3.0.1-py3-none-any.whl (232 kB)\n",
            "\u001b[?25l   \u001b[90m━━━━━━━━━━━━━━━━━━━━━━━━━━━━━━━━━━━━━━━━\u001b[0m \u001b[32m0.0/232.6 kB\u001b[0m \u001b[31m?\u001b[0m eta \u001b[36m-:--:--\u001b[0m\r\u001b[2K   \u001b[90m━━━━━━━━━━━━━━━━━━━━━━━━━━━━━━━━━━━━━━━━\u001b[0m \u001b[32m232.6/232.6 kB\u001b[0m \u001b[31m18.8 MB/s\u001b[0m eta \u001b[36m0:00:00\u001b[0m\n",
            "\u001b[?25hInstalling collected packages: PyPDF2, ExtractTable\n",
            "Successfully installed ExtractTable-2.4.0 PyPDF2-3.0.1\n"
          ]
        }
      ],
      "source": [
        "!pip install -U ExtractTable"
      ],
      "metadata": {
        "pycharm": {
          "name": "#%%\n"
        },
        "colab": {
          "base_uri": "https://localhost:8080/"
        },
        "id": "s1h929MZRDsl",
        "outputId": "21292825-3dc0-4164-b618-5508fc8f3c57"
      }
    },
    {
      "cell_type": "markdown",
      "source": [
        "# 2. Import and check version"
      ],
      "metadata": {
        "collapsed": false,
        "id": "JFfMZt4QRDsq"
      }
    },
    {
      "cell_type": "code",
      "execution_count": 2,
      "outputs": [],
      "source": [
        "from ExtractTable import ExtractTable"
      ],
      "metadata": {
        "pycharm": {
          "name": "#%%\n"
        },
        "id": "BrPW7sV8RDsr"
      }
    },
    {
      "cell_type": "code",
      "execution_count": 3,
      "outputs": [
        {
          "output_type": "stream",
          "name": "stdout",
          "text": [
            "ExtractTable_2.4.0\n"
          ]
        }
      ],
      "source": [
        "print(ExtractTable.VERSION)"
      ],
      "metadata": {
        "pycharm": {
          "name": "#%%\n"
        },
        "colab": {
          "base_uri": "https://localhost:8080/"
        },
        "id": "MExNRJYiRDst",
        "outputId": "12fab8a3-2236-48b4-dc71-e439a968b609"
      }
    },
    {
      "cell_type": "markdown",
      "source": [
        "# 3. Create Session & Validate API Key\n"
      ],
      "metadata": {
        "collapsed": false,
        "id": "Tw-uogbVRDsu"
      }
    },
    {
      "cell_type": "markdown",
      "source": [
        "## 3.1 **Create Session** with your API Key"
      ],
      "metadata": {
        "collapsed": false,
        "id": "VibdyTDeRDsw"
      }
    },
    {
      "cell_type": "code",
      "execution_count": 4,
      "outputs": [],
      "source": [
        "api_key =\"pwips3mIclTXyiD45keF8bZysQS01VTfw5eO1Ot9\""
      ],
      "metadata": {
        "pycharm": {
          "name": "#%%\n"
        },
        "id": "DSB8SlnrRDsx"
      }
    },
    {
      "cell_type": "code",
      "execution_count": 5,
      "outputs": [],
      "source": [
        "et_sess = ExtractTable(api_key)"
      ],
      "metadata": {
        "pycharm": {
          "name": "#%%\n"
        },
        "id": "p9WtEFhGRDsy"
      }
    },
    {
      "cell_type": "code",
      "execution_count": 6,
      "outputs": [],
      "source": [
        "# et_sess.__dict__"
      ],
      "metadata": {
        "pycharm": {
          "name": "#%%\n"
        },
        "id": "gTaPlnESRDs0"
      }
    },
    {
      "cell_type": "markdown",
      "source": [
        "## 3.2 **Validate** the Key and check the plan usage"
      ],
      "metadata": {
        "collapsed": false,
        "id": "B8iKxml0RDs2"
      }
    },
    {
      "cell_type": "code",
      "execution_count": 7,
      "outputs": [],
      "source": [
        "usage = et_sess.check_usage()"
      ],
      "metadata": {
        "pycharm": {
          "name": "#%%\n"
        },
        "id": "x_dpqNC3RDs3"
      }
    },
    {
      "cell_type": "markdown",
      "source": [
        "*If there is no error encountered in the above cell, it means we have a valid API key. Now, lets get started by checking the usage and trigger the file for processing*"
      ],
      "metadata": {
        "collapsed": false,
        "id": "OmrXBRXzRDs4"
      }
    },
    {
      "cell_type": "code",
      "execution_count": 8,
      "outputs": [],
      "source": [
        "# et_sess.server_response"
      ],
      "metadata": {
        "pycharm": {
          "name": "#%%\n"
        },
        "id": "UvKKeQbBRDs5"
      }
    },
    {
      "cell_type": "code",
      "execution_count": 9,
      "outputs": [
        {
          "output_type": "stream",
          "name": "stdout",
          "text": [
            "{'credits': 10, 'used': 0, 'queued': 0}\n"
          ]
        }
      ],
      "source": [
        "print(usage)"
      ],
      "metadata": {
        "pycharm": {
          "name": "#%%\n"
        },
        "colab": {
          "base_uri": "https://localhost:8080/"
        },
        "id": "6QNxuQBoRDs6",
        "outputId": "3d241ae3-39b8-4aed-bde5-66583d392de0"
      }
    },
    {
      "cell_type": "markdown",
      "source": [
        "## 3.3 Check Usage Details\n",
        "\n",
        "**credits**: Total number credits attached to the API Key\n",
        "\n",
        "**queued** : Number of triggered jobs that are still processing in the queue\n",
        "\n",
        "**used**   : Number of credits already used"
      ],
      "metadata": {
        "collapsed": false,
        "id": "EKQJ_KcFRDs6"
      }
    },
    {
      "cell_type": "markdown",
      "source": [
        "# 4. Trigger the extraction process\n",
        "\n",
        "> Note: We will use the session, `et_sess`, created earlier in step 3.1, to save the session data and retrieve when needed"
      ],
      "metadata": {
        "collapsed": false,
        "id": "Fn2H85xSRDs8"
      }
    },
    {
      "cell_type": "code",
      "execution_count": 10,
      "outputs": [],
      "source": [
        "\n",
        "image_location = \"/content/Table.png\""
      ],
      "metadata": {
        "pycharm": {
          "name": "#%%\n"
        },
        "id": "3AuXLu0SRDs-"
      }
    },
    {
      "cell_type": "markdown",
      "source": [
        "## 4.2 Process an <ins>IMAGE</ins> Input\n"
      ],
      "metadata": {
        "collapsed": false,
        "id": "BQwLTfNgRDs_"
      }
    },
    {
      "cell_type": "code",
      "execution_count": 11,
      "outputs": [],
      "source": [
        "table_data = et_sess.process_file(filepath=image_location, output_format=\"df\")"
      ],
      "metadata": {
        "pycharm": {
          "name": "#%%\n"
        },
        "id": "EGyF0u-fRDtB"
      }
    },
    {
      "cell_type": "code",
      "execution_count": 12,
      "outputs": [
        {
          "output_type": "execute_result",
          "data": {
            "text/plain": [
              "[                                                    0           1           2  \\\n",
              " 0                                 En milliers d'Euros        2022        2021   \n",
              " 1                              Impôts différés actifs     368 123       77143   \n",
              " 2       Immobilisations corporelles pour usage propre      318362     380 944   \n",
              " 3   Placements (autres que les actifs en représent...  39 413 279  54 535 580   \n",
              " 4            Immobilier (autre que pour usage propre)     585 147     562 569   \n",
              " 5                                      Participations   5 540 849   5 818 064   \n",
              " 6                                             Actions     809 670     780 154   \n",
              " 7                                      Actions cotées     311 538     464 180   \n",
              " 8                                  Actions non cotées     498 132     315 974   \n",
              " 9                                         Obligations  25 507 610  38 273 546   \n",
              " 10                                 Obligations d'Etat  12 878 865  21 684 551   \n",
              " 11                            Obligations de sociétés  12 628 699  16 588 351   \n",
              " 12                                    Titres garantis          45         644   \n",
              " 13                             Fonds d'investissement   6 802 353   9 047 443   \n",
              " 14                                   Produits dérivés     167 647      53 800   \n",
              " 15  Dépôts autres que ceux assimilables à de la tr...           4           4   \n",
              " 16  Placements en représentation de contrats en UC...  16 885 658  18 178 529   \n",
              " 17                       Prêts et prêts hypothécaires   3 352 760   2 832 045   \n",
              " 18                Autres prêts et prêts hypothécaires   3 162 080     2575558   \n",
              " 19                                Avances sur polices     190 680     256 487   \n",
              " 20                       Provisions techniques cédées     263 576     251 839   \n",
              " 21                                 Non vie hors santé           -           -   \n",
              " 22                       Santé similaire à la non vie           -           -   \n",
              " 23  Vie et santé similaire à la vie, hors UC ou in...     263 576     251 839   \n",
              " 24                           Santé similaire à la vie     228 293     208 282   \n",
              " 25                      Vie hors santé, UC ou indexés      35 283      43 558   \n",
              " 26                         Dépôts auprès des cédantes      371612     344 084   \n",
              " 27             Créances nées d'opérations d'assurance     980 995     939 300   \n",
              " 28          Créances nées d'opérations de réassurance      15 823      15 493   \n",
              " 29                   Autres créances (hors assurance)     823 797     757 832   \n",
              " 30                Trésorerie et équivalent trésorerie     128 473     200 077   \n",
              " 31  Autres actifs non mentionnés dans les postes c...           6          48   \n",
              " 32                                             Actifs  62 922 466  78 512 915   \n",
              " \n",
              "               3  \n",
              " 0     Variation  \n",
              " 1       290 980  \n",
              " 2       -62 581  \n",
              " 3   -15 122 301  \n",
              " 4        22 578  \n",
              " 5      -277 215  \n",
              " 6        29 516  \n",
              " 7      -152 643  \n",
              " 8       182 158  \n",
              " 9   -12 765 936  \n",
              " 10   -8 805 686  \n",
              " 11   -3 959 652  \n",
              " 12         -598  \n",
              " 13   -2 245 090  \n",
              " 14      113 846  \n",
              " 15               \n",
              " 16   -1 292 872  \n",
              " 17      520 715  \n",
              " 18      586 522  \n",
              " 19      -65 807  \n",
              " 20        11737  \n",
              " 21            -  \n",
              " 22               \n",
              " 23        11737  \n",
              " 24       20 012  \n",
              " 25       -8 275  \n",
              " 26       27 528  \n",
              " 27        41695  \n",
              " 28          330  \n",
              " 29       65 965  \n",
              " 30      -71 603  \n",
              " 31          -42  \n",
              " 32  -15 590 449  ]"
            ]
          },
          "metadata": {},
          "execution_count": 12
        }
      ],
      "source": [
        "table_data"
      ],
      "metadata": {
        "pycharm": {
          "name": "#%%\n"
        },
        "colab": {
          "base_uri": "https://localhost:8080/"
        },
        "id": "X6THBd0WRDtC",
        "outputId": "0d8e587c-8d27-4fe1-daba-2d52f0b1725b"
      }
    },
    {
      "cell_type": "code",
      "source": [
        "headers = table_data[0]\n",
        "\n",
        "data = table_data[1:]\n",
        "\n",
        "df = pd.DataFrame(data, columns=headers)\n",
        "\n",
        "\n",
        "output_csv_path = \"table_data.csv\"\n",
        "df.to_csv(output_csv_path, index=False, sep=\";\")\n",
        "\n",
        "print(f\"DataFrame created and saved as: {output_csv_path}\")"
      ],
      "metadata": {
        "colab": {
          "base_uri": "https://localhost:8080/"
        },
        "id": "II46ercdSyvp",
        "outputId": "008d0e04-87b2-40d2-a9c1-af32bd081be4"
      },
      "execution_count": 23,
      "outputs": [
        {
          "output_type": "stream",
          "name": "stdout",
          "text": [
            "DataFrame created and saved as: table_data.csv\n"
          ]
        }
      ]
    },
    {
      "cell_type": "code",
      "source": [
        "df.head()"
      ],
      "metadata": {
        "colab": {
          "base_uri": "https://localhost:8080/",
          "height": 255
        },
        "id": "YaxXj_tGTfjQ",
        "outputId": "f288a524-8a16-423f-a26b-e1e40a7b5f8a"
      },
      "execution_count": 19,
      "outputs": [
        {
          "output_type": "execute_result",
          "data": {
            "text/plain": [
              "Empty DataFrame\n",
              "Columns: [(En milliers d'Euros, 2022, 2021, Variation), (Impôts différés actifs, 368 123, 77143, 290 980), (Immobilisations corporelles pour usage propre, 318362, 380 944, -62 581), (Placements (autres que les actifs en représentation de contrats en UC ou indexés), 39 413 279, 54 535 580, -15 122 301), (Immobilier (autre que pour usage propre), 585 147, 562 569, 22 578), (Participations, 5 540 849, 5 818 064, -277 215), (Actions, 809 670, 780 154, 29 516), (Actions cotées, 311 538, 464 180, -152 643), (Actions non cotées, 498 132, 315 974, 182 158), (Obligations, 25 507 610, 38 273 546, -12 765 936), (Obligations d'Etat, 12 878 865, 21 684 551, -8 805 686), (Obligations de sociétés, 12 628 699, 16 588 351, -3 959 652), (Titres garantis, 45, 644, -598), (Fonds d'investissement, 6 802 353, 9 047 443, -2 245 090), (Produits dérivés, 167 647, 53 800, 113 846), (Dépôts autres que ceux assimilables à de la trésorerie, 4, 4, ), (Placements en représentation de contrats en UC ou indexés, 16 885 658, 18 178 529, -1 292 872), (Prêts et prêts hypothécaires, 3 352 760, 2 832 045, 520 715), (Autres prêts et prêts hypothécaires, 3 162 080, 2575558, 586 522), (Avances sur polices, 190 680, 256 487, -65 807), (Provisions techniques cédées, 263 576, 251 839, 11737), (Non vie hors santé, -, -, -), (Santé similaire à la non vie, -, -, ), (Vie et santé similaire à la vie, hors UC ou indéxés, 263 576, 251 839, 11737), (Santé similaire à la vie, 228 293, 208 282, 20 012), (Vie hors santé, UC ou indexés, 35 283, 43 558, -8 275), (Dépôts auprès des cédantes, 371612, 344 084, 27 528), (Créances nées d'opérations d'assurance, 980 995, 939 300, 41695), (Créances nées d'opérations de réassurance, 15 823, 15 493, 330), (Autres créances (hors assurance), 823 797, 757 832, 65 965), (Trésorerie et équivalent trésorerie, 128 473, 200 077, -71 603), (Autres actifs non mentionnés dans les postes ci-dessus, 6, 48, -42), (Actifs, 62 922 466, 78 512 915, -15 590 449)]\n",
              "Index: []\n",
              "\n",
              "[0 rows x 33 columns]"
            ],
            "text/html": [
              "\n",
              "  <div id=\"df-39519e48-6315-4e22-abc2-e38755c78775\" class=\"colab-df-container\">\n",
              "    <div>\n",
              "<style scoped>\n",
              "    .dataframe tbody tr th:only-of-type {\n",
              "        vertical-align: middle;\n",
              "    }\n",
              "\n",
              "    .dataframe tbody tr th {\n",
              "        vertical-align: top;\n",
              "    }\n",
              "\n",
              "    .dataframe thead th {\n",
              "        text-align: right;\n",
              "    }\n",
              "</style>\n",
              "<table border=\"1\" class=\"dataframe\">\n",
              "  <thead>\n",
              "    <tr style=\"text-align: right;\">\n",
              "      <th></th>\n",
              "      <th>(En milliers d'Euros, 2022, 2021, Variation)</th>\n",
              "      <th>(Impôts différés actifs, 368 123, 77143, 290 980)</th>\n",
              "      <th>(Immobilisations corporelles pour usage propre, 318362, 380 944, -62 581)</th>\n",
              "      <th>(Placements (autres que les actifs en représentation de contrats en UC ou indexés), 39 413 279, 54 535 580, -15 122 301)</th>\n",
              "      <th>(Immobilier (autre que pour usage propre), 585 147, 562 569, 22 578)</th>\n",
              "      <th>(Participations, 5 540 849, 5 818 064, -277 215)</th>\n",
              "      <th>(Actions, 809 670, 780 154, 29 516)</th>\n",
              "      <th>(Actions cotées, 311 538, 464 180, -152 643)</th>\n",
              "      <th>(Actions non cotées, 498 132, 315 974, 182 158)</th>\n",
              "      <th>(Obligations, 25 507 610, 38 273 546, -12 765 936)</th>\n",
              "      <th>...</th>\n",
              "      <th>(Vie et santé similaire à la vie, hors UC ou indéxés, 263 576, 251 839, 11737)</th>\n",
              "      <th>(Santé similaire à la vie, 228 293, 208 282, 20 012)</th>\n",
              "      <th>(Vie hors santé, UC ou indexés, 35 283, 43 558, -8 275)</th>\n",
              "      <th>(Dépôts auprès des cédantes, 371612, 344 084, 27 528)</th>\n",
              "      <th>(Créances nées d'opérations d'assurance, 980 995, 939 300, 41695)</th>\n",
              "      <th>(Créances nées d'opérations de réassurance, 15 823, 15 493, 330)</th>\n",
              "      <th>(Autres créances (hors assurance), 823 797, 757 832, 65 965)</th>\n",
              "      <th>(Trésorerie et équivalent trésorerie, 128 473, 200 077, -71 603)</th>\n",
              "      <th>(Autres actifs non mentionnés dans les postes ci-dessus, 6, 48, -42)</th>\n",
              "      <th>(Actifs, 62 922 466, 78 512 915, -15 590 449)</th>\n",
              "    </tr>\n",
              "  </thead>\n",
              "  <tbody>\n",
              "  </tbody>\n",
              "</table>\n",
              "<p>0 rows × 33 columns</p>\n",
              "</div>\n",
              "    <div class=\"colab-df-buttons\">\n",
              "\n",
              "  <div class=\"colab-df-container\">\n",
              "    <button class=\"colab-df-convert\" onclick=\"convertToInteractive('df-39519e48-6315-4e22-abc2-e38755c78775')\"\n",
              "            title=\"Convert this dataframe to an interactive table.\"\n",
              "            style=\"display:none;\">\n",
              "\n",
              "  <svg xmlns=\"http://www.w3.org/2000/svg\" height=\"24px\" viewBox=\"0 -960 960 960\">\n",
              "    <path d=\"M120-120v-720h720v720H120Zm60-500h600v-160H180v160Zm220 220h160v-160H400v160Zm0 220h160v-160H400v160ZM180-400h160v-160H180v160Zm440 0h160v-160H620v160ZM180-180h160v-160H180v160Zm440 0h160v-160H620v160Z\"/>\n",
              "  </svg>\n",
              "    </button>\n",
              "\n",
              "  <style>\n",
              "    .colab-df-container {\n",
              "      display:flex;\n",
              "      gap: 12px;\n",
              "    }\n",
              "\n",
              "    .colab-df-convert {\n",
              "      background-color: #E8F0FE;\n",
              "      border: none;\n",
              "      border-radius: 50%;\n",
              "      cursor: pointer;\n",
              "      display: none;\n",
              "      fill: #1967D2;\n",
              "      height: 32px;\n",
              "      padding: 0 0 0 0;\n",
              "      width: 32px;\n",
              "    }\n",
              "\n",
              "    .colab-df-convert:hover {\n",
              "      background-color: #E2EBFA;\n",
              "      box-shadow: 0px 1px 2px rgba(60, 64, 67, 0.3), 0px 1px 3px 1px rgba(60, 64, 67, 0.15);\n",
              "      fill: #174EA6;\n",
              "    }\n",
              "\n",
              "    .colab-df-buttons div {\n",
              "      margin-bottom: 4px;\n",
              "    }\n",
              "\n",
              "    [theme=dark] .colab-df-convert {\n",
              "      background-color: #3B4455;\n",
              "      fill: #D2E3FC;\n",
              "    }\n",
              "\n",
              "    [theme=dark] .colab-df-convert:hover {\n",
              "      background-color: #434B5C;\n",
              "      box-shadow: 0px 1px 3px 1px rgba(0, 0, 0, 0.15);\n",
              "      filter: drop-shadow(0px 1px 2px rgba(0, 0, 0, 0.3));\n",
              "      fill: #FFFFFF;\n",
              "    }\n",
              "  </style>\n",
              "\n",
              "    <script>\n",
              "      const buttonEl =\n",
              "        document.querySelector('#df-39519e48-6315-4e22-abc2-e38755c78775 button.colab-df-convert');\n",
              "      buttonEl.style.display =\n",
              "        google.colab.kernel.accessAllowed ? 'block' : 'none';\n",
              "\n",
              "      async function convertToInteractive(key) {\n",
              "        const element = document.querySelector('#df-39519e48-6315-4e22-abc2-e38755c78775');\n",
              "        const dataTable =\n",
              "          await google.colab.kernel.invokeFunction('convertToInteractive',\n",
              "                                                    [key], {});\n",
              "        if (!dataTable) return;\n",
              "\n",
              "        const docLinkHtml = 'Like what you see? Visit the ' +\n",
              "          '<a target=\"_blank\" href=https://colab.research.google.com/notebooks/data_table.ipynb>data table notebook</a>'\n",
              "          + ' to learn more about interactive tables.';\n",
              "        element.innerHTML = '';\n",
              "        dataTable['output_type'] = 'display_data';\n",
              "        await google.colab.output.renderOutput(dataTable, element);\n",
              "        const docLink = document.createElement('div');\n",
              "        docLink.innerHTML = docLinkHtml;\n",
              "        element.appendChild(docLink);\n",
              "      }\n",
              "    </script>\n",
              "  </div>\n",
              "\n",
              "\n",
              "    </div>\n",
              "  </div>\n"
            ],
            "application/vnd.google.colaboratory.intrinsic+json": {
              "type": "dataframe",
              "variable_name": "df"
            }
          },
          "metadata": {},
          "execution_count": 19
        }
      ]
    },
    {
      "cell_type": "code",
      "execution_count": 13,
      "outputs": [
        {
          "output_type": "stream",
          "name": "stdout",
          "text": [
            "En milliers d'Euros\n",
            "2022\n",
            "2021\n",
            "Variation\n",
            "Impôts différés actifs\n",
            "368 123\n",
            "77143\n",
            "290 980\n",
            "Immobilisations corporelles pour usage propre\n",
            "318362\n",
            "380 944\n",
            "-62 581\n",
            "Placements (autres que les actifs en représentation de contrats en UC ou\n",
            "39 413 279\n",
            "54 535 580\n",
            "-15 122 301\n",
            "indexés)\n",
            "Immobilier (autre que pour usage propre)\n",
            "585 147\n",
            "562 569\n",
            "22 578\n",
            "Participations\n",
            "5 540 849\n",
            "5 818 064\n",
            "-277 215\n",
            "Actions\n",
            "809 670\n",
            "780 154\n",
            "29 516\n",
            "Actions cotées\n",
            "311 538\n",
            "464 180\n",
            "-152 643\n",
            "Actions non cotées\n",
            "498 132\n",
            "315 974\n",
            "182 158\n",
            "Obligations\n",
            "25 507 610\n",
            "38 273 546\n",
            "-12 765 936\n",
            "Obligations d'Etat\n",
            "12 878 865\n",
            "21 684 551\n",
            "-8 805 686\n",
            "Obligations de sociétés\n",
            "12 628 699\n",
            "16 588 351\n",
            "-3 959 652\n",
            "Titres garantis\n",
            "45\n",
            "644\n",
            "-598\n",
            "Fonds d'investissement\n",
            "6 802 353\n",
            "9 047 443\n",
            "-2 245 090\n",
            "Produits dérivés\n",
            "167 647\n",
            "53 800\n",
            "113 846\n",
            "Dépôts autres que ceux assimilables à de la trésorerie\n",
            "4\n",
            "4\n",
            "Placements en représentation de contrats en UC ou indexés\n",
            "16 885 658\n",
            "18 178 529\n",
            "-1 292 872\n",
            "Prêts et prêts hypothécaires\n",
            "3 352 760\n",
            "2 832 045\n",
            "520 715\n",
            "Autres prêts et prêts hypothécaires\n",
            "3 162 080\n",
            "2575558\n",
            "586 522\n",
            "Avances sur polices\n",
            "190 680\n",
            "256 487\n",
            "-65 807\n",
            "Provisions techniques cédées\n",
            "263 576\n",
            "251 839\n",
            "11737\n",
            "Non vie hors santé\n",
            "-\n",
            "-\n",
            "-\n",
            "Santé similaire à la non vie\n",
            "-\n",
            "-\n",
            "Vie et santé similaire à la vie, hors UC ou indéxés\n",
            "263 576\n",
            "251 839\n",
            "11737\n",
            "Santé similaire à la vie\n",
            "228 293\n",
            "208 282\n",
            "20 012\n",
            "Vie hors santé, UC ou indexés\n",
            "35 283\n",
            "43 558\n",
            "-8 275\n",
            "Dépôts auprès des cédantes\n",
            "371612\n",
            "344 084\n",
            "27 528\n",
            "Créances nées d'opérations d'assurance\n",
            "980 995\n",
            "939 300\n",
            "41695\n",
            "Créances nées d'opérations de réassurance\n",
            "15 823\n",
            "15 493\n",
            "330\n",
            "Autres créances (hors assurance)\n",
            "823 797\n",
            "757 832\n",
            "65 965\n",
            "Trésorerie et équivalent trésorerie\n",
            "128 473\n",
            "200 077\n",
            "-71 603\n",
            "Autres actifs non mentionnés dans les postes ci-dessus\n",
            "6\n",
            "48\n",
            "-42\n",
            "Actifs\n",
            "62 922 466\n",
            "78 512 915\n",
            "-15 590 449\n"
          ]
        }
      ],
      "source": [
        "\n",
        "\n",
        "all_page_lines = []\n",
        "for each_page in et_sess.Lines:\n",
        "  for each_line in each_page['LinesArray']:\n",
        "    all_page_lines.append(each_line['Line'])\n",
        "\n",
        "print(\"\\n\".join(all_page_lines))"
      ],
      "metadata": {
        "pycharm": {
          "name": "#%%\n"
        },
        "colab": {
          "base_uri": "https://localhost:8080/"
        },
        "id": "lv3cgEDbRDte",
        "outputId": "9797286d-3d61-4f44-e72a-37711e58ed2a"
      }
    }
  ]
}